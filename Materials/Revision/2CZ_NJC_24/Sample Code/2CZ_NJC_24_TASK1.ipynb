{
 "cells": [
  {
   "cell_type": "markdown",
   "id": "9444e933",
   "metadata": {},
   "source": [
    "# Task 1: Vigenére Cypher \n",
    "\n",
    "The task is to implement a Vigenére cypher encryption algoithm via the use of Caesar cypher.\n",
    "A Caesar cypher encodes each letter with a different letter. A $n$-place Caesar cypher uses the ASCII value of each letter and adds the number n, where $1 \\leq n \\leq 26$ to it.\n",
    "For example, if $n = 10$,\n",
    "* The character 'A' has the ASCII value 65. Adding 10 to the number will give the ASCII value 75. The character for 75 is 'K'.\n",
    "* When an uppercase letter's code goes beyond 'Z' it returns to 'A' For example, the character 'Z' has the ASCII value 90. Adding 10 to the number will give the ASCII value 74. The character 'Z' will be encrypted as 'J'.\n",
    "* When a lowercase letter's code goes beyong 'z' it returns to 'a'. For example, the character 'x' will be encrypted as 'h'.\n",
    "* Spaces ' ' are replaced with the character '!'.\n",
    "\n",
    "You will only need to convert letters and spaces. If the character is invalid, -1 is returned.\n",
    "\n",
    "The following table shows the ASCII values of some of the characters.\n",
    "<center>\n",
    "\n",
    "| Character|ASCII Value\n",
    "|-|-|\n",
    "|A|65|\n",
    "|Z|90|\n",
    "|a|97|\n",
    "|z|122|\n",
    "|Space|32|\n",
    "|!|33|\n",
    "\n",
    "</center>\n",
    "\n",
    "In ASCII the letters follow on numerically. For example, the character 'A' is 65, 'B' is 66,'C' is 67 etc.\n",
    "\n",
    "For each of the sub-tasks, add a comment statement at the beginning of the code, using the has symbol '#' to indicate the sub-task the program code belongs to."
   ]
  },
  {
   "cell_type": "markdown",
   "id": "207644ab",
   "metadata": {},
   "source": [
    "## Task 1.1\n",
    "Write program code for a function task1_1() that:\n",
    "* takes two parameters:\n",
    "    * a chracter $c$, and\n",
    "    * an integer $n$.\n",
    "* encrypt the character $c$ by adding the number $n$, where $1 \\leq n \\leq 26$, to its ASCII value.\n",
    "* spaces will be replaced '!'.\n",
    "* returns the new encrypted character. If the character is invalid, -1 is returned.\n",
    "\n",
    "<div style=\"text-align:right;\">[5]<div>"
   ]
  },
  {
   "cell_type": "code",
   "execution_count": 2,
   "id": "6c276e16",
   "metadata": {},
   "outputs": [],
   "source": [
    "# Task 1.1"
   ]
  },
  {
   "cell_type": "markdown",
   "id": "5f7fd723",
   "metadata": {},
   "source": [
    "# Task 1.2\n",
    "The Vigenére cypher is a method of encrypting alphabetic text where each letter of the plaintext is encoded with a different Caesar cipher, whose increment is determined by the corresponding letter of another text, the keyword `key`.\n",
    "\n",
    "For example,suppose that the plaintext to be encrypted is '<span style=\"font-family: Courier New,monospace;\">Attack#at dawn</span>' and the key-word is '<span style=\"font-family: Courier New,monospace;\">LEMON</span>'.\n",
    "\n",
    "They keyword would be repeated until it matches the length of the plaintext.\n",
    "\n",
    "<div style=\"font-family:Courier New,monospace;\">\n",
    "Plaintext: Attack#at dawn <br>\n",
    "Key: LEMONLEMONLEMO<br>\n",
    "Ciphertext: Mygpqw#ni!pfjc\n",
    "</div>\n",
    "\n",
    "Because the 'L' is the twelveth letter in the alphabet, the first letter in the message ('A') is replaced by the letter which comes twelve places after it in the alphabet ('M'). In orther words, 'A' is encrypted with 12 - place Caesar cypher.\n",
    "Because 'E' is the fifth letter in the alphabet, the second letter in the message ('t') is replaced by the letter which comes five place after it in the alphabet ('y'). IN other words, 't' is encrypted with 5-place Caesar cypher.\n",
    "Because '#' is not an alphabet, it is an invalid character and doesn't get encrypted.\n",
    "And so on, until the complete message has been encrypted.\n",
    "The text file `TASK1DATA.txt` contains a message that needs to be encrypted with the keyword '`Njc`' and then stored in a text file named `ENCRYPTEDMESSAGE.txt`.\n",
    "\n",
    "Write program code to:\n",
    "* read the data from the text file `TASK1DATA.txt`\n",
    "* encrypt each character with the Vigenére cypher and keyword '`Njc`'\n",
    "* store the encrypted message in the text file `ENCRYPTEDMESSAGE.txt`\n",
    "\n",
    "Keep the **invalid** characters as it is when appending to the encrypted message\n",
    "\n",
    "<div style=\"text-align:right;\">[8]</div>\n",
    "\n",
    "Test your program with `TASK1DATA.txt`\n",
    "Show the contents of `ENCRYPTEDMESSAGE.txt` after you have run the program\n",
    "\n",
    "<div style=\"text-align:right;\">[1]</div>\n",
    "\n",
    "Save your Jupyter Notebook for Task 1 as follows:\n",
    "TASK1_<your name>.ipynb\n",
    "Make sure that each of your `.ipynb` files shows the required output\n"
   ]
  },
  {
   "cell_type": "code",
   "execution_count": null,
   "id": "af5b5aec",
   "metadata": {},
   "outputs": [],
   "source": [
    "# Task1.2"
   ]
  }
 ],
 "metadata": {
  "kernelspec": {
   "display_name": "venv-rev (3.13.2)",
   "language": "python",
   "name": "python3"
  },
  "language_info": {
   "codemirror_mode": {
    "name": "ipython",
    "version": 3
   },
   "file_extension": ".py",
   "mimetype": "text/x-python",
   "name": "python",
   "nbconvert_exporter": "python",
   "pygments_lexer": "ipython3",
   "version": "3.13.2"
  }
 },
 "nbformat": 4,
 "nbformat_minor": 5
}
