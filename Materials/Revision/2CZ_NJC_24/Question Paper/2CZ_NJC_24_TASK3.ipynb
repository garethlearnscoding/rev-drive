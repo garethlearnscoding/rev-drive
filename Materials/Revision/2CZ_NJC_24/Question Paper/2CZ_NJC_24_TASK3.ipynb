{
 "cells": [
  {
   "cell_type": "markdown",
   "id": "c56040a6",
   "metadata": {},
   "source": [
    "# Task 3: Some Math Problem\n",
    "Name your Jupyter Notebook as: <br>\n",
    "`TASK3_<your name>.ipynb` <br>\n",
    "\n",
    "The task is to:\n",
    "* read a file containing a list of numbers\n",
    "* store them into a list\n",
    "* sort the list using a merge sort\n",
    "* choose $n$ random elements from the list\n",
    "* write the list of random elements to a file\n",
    "* compute the average of these $n$ random elements\n",
    "* find the number of elements in the list that is less than the average of these $n$ random elements\n",
    "\n",
    "For each of the sub-tasks, add a comment statement at the beginning of the code, using the has symbol '#' to indicate the sub-task the program code belongs to."
   ]
  },
  {
   "cell_type": "markdown",
   "id": "a58b12fb",
   "metadata": {},
   "source": [
    "## Task 3.1\n",
    "Write a function `task3_1(list_of_values)` that:\n",
    "* takes a list of values, `list_of_values`\n",
    "* sorts them into ascending order using merge sort\n",
    "* returns the sorted list.\n",
    "\n",
    "<div style=\"text-align:right\">[6]</div>\n",
    "\n",
    "Use the list `[56,25,4,98,0,18,4,5,7,0]` to test your function.\n",
    "\n",
    "For example, the condition \n",
    "```python\n",
    "task3_1([56,25,4,98,0,18,4,5,7,0]) == [0,0,4,4,5,7,18,25,56,98]\n",
    "```\n",
    "should return `True`.\n",
    "\n",
    "<div style=\"text-align:right\">[2]</div>"
   ]
  },
  {
   "cell_type": "code",
   "execution_count": null,
   "id": "ebabd705",
   "metadata": {},
   "outputs": [],
   "source": [
    "# Task 3.1"
   ]
  },
  {
   "cell_type": "markdown",
   "id": "33494a93",
   "metadata": {},
   "source": [
    "## Task 3.2\n",
    "Write a function `task3_2(filename_in,filename_out,no_of_sample)` that:\n",
    "* accepts three parameters\n",
    "    * `filename_in`, a string representing the input file name\n",
    "    * `filename_out`, a string representing the output file name\n",
    "    * `no_of_sample`, an integer representing the number of random elements to take from the list\n",
    "* read the values from the input file `filename_in`\n",
    "* store them into a list\n",
    "* choose `no_of_sample` random elements from the list\n",
    "* writes those values, one per line, to a file named `filename_out`\n",
    "* calculates the arithmetic average of the `no_of_sample` random elements taken\n",
    "* return the number of values found in file `filename_in` that is less than arithmetic average of the values found in `filename_out`\n",
    "\n",
    "<div style=\"text-align: right;\"> [6] </div>"
   ]
  },
  {
   "cell_type": "code",
   "execution_count": null,
   "id": "44ecc371",
   "metadata": {},
   "outputs": [],
   "source": [
    "# Task 3.2"
   ]
  },
  {
   "cell_type": "markdown",
   "id": "e429b4df",
   "metadata": {},
   "source": [
    "## Task 3.3\n",
    "The collection of values of `no_of_sample` elements taken from the file `TASK3FILE.txt` is called _lower-sufficient_ if the number of values in the file `TASK3FILE.txt` that is less than the average of the values in the collection, is less than an integer `alpha`. Else, the collection is called _lower-insufficient_.\n",
    "\n",
    "Let `no_of_sample`$= 700$ and `alpha` $ = 1000$. <br>\n",
    "**(a)** Find a lower-insufficient collection and write it to the file `NOTLOWER.TXT` <br>\n",
    "**(b)** FInd a lower-sufficient collection and write it to the file `LOWER.TXT`<br>\n",
    "\n",
    "<div style=\"text-align:right;\">[4]</div>\n",
    "\n",
    "Save your Jupyter Notebook for Task 3.\n"
   ]
  },
  {
   "cell_type": "code",
   "execution_count": null,
   "id": "70d01f76",
   "metadata": {},
   "outputs": [],
   "source": [
    "# Task 3.3"
   ]
  }
 ],
 "metadata": {
  "kernelspec": {
   "display_name": "venv-rev (3.13.2)",
   "language": "python",
   "name": "python3"
  },
  "language_info": {
   "codemirror_mode": {
    "name": "ipython",
    "version": 3
   },
   "file_extension": ".py",
   "mimetype": "text/x-python",
   "name": "python",
   "nbconvert_exporter": "python",
   "pygments_lexer": "ipython3",
   "version": "3.13.2"
  }
 },
 "nbformat": 4,
 "nbformat_minor": 5
}
