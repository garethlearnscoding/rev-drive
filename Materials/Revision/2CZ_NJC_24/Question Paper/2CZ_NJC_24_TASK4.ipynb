{
 "cells": [
  {
   "cell_type": "markdown",
   "id": "6dcf3c89",
   "metadata": {},
   "source": [
    "# Task 4: Some Esports Competition\n",
    "Name your Jupyter Notebook as: <br>\n",
    "`TASK4_<your name>.ipynb` <br>\n",
    "\n",
    "A esports company has used a text file to store data collected about people who are organising a competition and the competitors. People who have an organising role at the competition are referred to as 'staff'. Also, the players competes in teams of 5. The company decides to transfer this information into a database.\n",
    "\n",
    "The database <span style=\"font-family: Courier New,monospace;\">ESPORTS</span>  will have the following tables: <br>\n",
    "\n",
    "<span style=\"font-family: Courier New,monospace;\">PEOPLE</span>:\n",
    "\n",
    "* `PersonID` - primary key, an auto-incremented integer\n",
    "* `FullName` - the full name of the person, text\n",
    "* `DateOfBirth` - the person's date of birth, text\n",
    "* `IsPlayer` - a Boolean using 0 for False and 1 for True, integer\n",
    "* `IsStaff` - a Boolean using 0 for False and 1 for True, integer\n",
    "\n",
    "<span style=\"font-family: Courier New,monospace;\">PLAYER</span>:\n",
    "\n",
    "* `PersonID` - the person's unique number\n",
    "* `TeamName` - the player's team name,text\n",
    "* `CharacterName` - the person's ingame name, text\n",
    "* `EventName` - the person's alias for the event, text\n",
    "* `Score` - the peron's score for the competition, integer\n",
    "\n",
    "A web page will then be used to summarise the data. Different information will be visible on the web page, depending on the type of person displayed."
   ]
  },
  {
   "cell_type": "markdown",
   "id": "33e7c387",
   "metadata": {},
   "source": [
    "## Task 4.1\n",
    "Write a Python program that uses SQL code to create the database <span style=\"font-family: Courier New,monospace;\">ESPORTS</span> with the two tables given. Define the primary and foreing keys for each table.\n",
    "\n",
    "<div style=\"text-align:right;\">[4]</div>\n",
    "\n",
    "Run your program to test the database has been set up correctly and save your database as `esports.db`.\n",
    "\n",
    "<div style=\"text-align:right;\">[1]</div>"
   ]
  },
  {
   "cell_type": "code",
   "execution_count": null,
   "id": "bf13bd2c",
   "metadata": {},
   "outputs": [],
   "source": [
    "#  Task 4.1"
   ]
  },
  {
   "cell_type": "markdown",
   "id": "836f7731",
   "metadata": {},
   "source": [
    "## Task 4.2\n",
    "The company wants to use the Python programming language and object-oriented programming to help publish the database content on a web page.<br>\n",
    "The class `Person` will store the following data:\n",
    "* `full_name` - stored as a string\n",
    "* `date_of_birth` - initialised with a string with the format YYYY-MM-DD\n",
    "\n",
    "The class has three methods defined on it:\n",
    "* `is_player()` - returns a string '`Maybe`'\n",
    "* `is_staff()` - returns a string '`Maybe`'\n",
    "* `event_name()` - returns a string which creates an indentifier to be used as a event name, which should be constructed as follows:\n",
    "    * the person's full name with all spaces and punctuation removed\n",
    "    * followed by the two-digit month of their birth\n",
    "    * then the two-digit day of their birth\n",
    "    For example, \"`Bira Dawn`\", born on the `02 October 1985` (\"1985-10-02), would have the event name \"BiraDawn1002\"\n",
    "\n",
    "Save your program code as: <br>\n",
    "`TASK4_2_<your name>.ipynb`\n",
    "\n",
    "<div style=\"text-align:right;\">[4]</div>\n",
    "\n",
    "The `Player` class inherits from `Person`, such that:\n",
    "* the class has three additional attributes\n",
    "    * the player's character name `char_name`, and \n",
    "    * the player's team name `team_name`,\n",
    "    * the player's score `score`\n",
    "* `event_name()` method, which returns a string which creates an identifier to be used as a event name, which should be constructed as follows:\n",
    "    * the player's character name,\n",
    "    * followed by a space character `' '` and the team name `<Team Name>`\n",
    "    For example, '`Rogerbrown`', from the team '`Echo`' would have the even name \"`Rogerbrown <Echo>`\" \n",
    "* `is_player()` always returns True\n",
    "\n",
    "The `Staff` class inherits from `Person`, such that:\n",
    "* `event_name()` should be the person's event name followed by '`Staff`'\n",
    "* `is_staff()` always returns True.\n",
    "\n",
    "<div style=\"text-align:right;\">[4]</div>\n",
    "\n",
    "Add your program code to: <br>\n",
    "`TASK4_2_<your name>.py`"
   ]
  },
  {
   "cell_type": "code",
   "execution_count": null,
   "id": "93cdeddc",
   "metadata": {},
   "outputs": [],
   "source": [
    "# Task 4.2"
   ]
  },
  {
   "cell_type": "markdown",
   "id": "4aa12b1e",
   "metadata": {},
   "source": [
    "## Task 4.3\n",
    "The text file, `TASK4PEOPLE.CSV`, contains data items for a number of people. Each data item is separated by a commn, with each person's data on a newline as follows:\n",
    "* full name\n",
    "* date of birth in the form YYYY-MM-DD\n",
    "* a string indicating whether the person is `Staff`,`Player` or  `Person`.\n",
    "<br>\n",
    "\n",
    "Another text file, `TASK4PLAYERS.CSV`, contains additional data item for the people who are also players. Each data time is separated by a comma, with each peron's data on a newline as follows:\n",
    "\n",
    "* full name\n",
    "* date of birth in the form YYYY-MM-DD\n",
    "* team name\n",
    "* character name\n",
    "* competition score\n",
    "\n",
    "Write program code to read in the information from the text files, `TASK4PEOPLE.CSV` and `TASK4PLAYERS.CSV` creating an instance of the appropriate class for each person (either `Player`,`Staff` or `Person`). Store all this instances in list named `Event_People`.\n",
    "\n",
    "<div style=\"text-align:right;\">[6]</div>\n",
    "\n",
    "Write program code to insert all information from the text files, `TASK4PEOPLE.CSV` and `TASK4PLAYERS.CSV` into the two tables in `esports.db` database. Run the program. Add your program code to:\n",
    "`TASK4_2_<your name>.py`\n",
    "\n",
    "<div style=\"text-align:right;\">[8]</div>\n"
   ]
  },
  {
   "cell_type": "code",
   "execution_count": null,
   "id": "1d8e0a5c",
   "metadata": {},
   "outputs": [],
   "source": [
    "# Task 4.3"
   ]
  },
  {
   "cell_type": "markdown",
   "id": "01f8d994",
   "metadata": {},
   "source": [
    "## Task 4.4\n",
    "The aggregated information from the database are to be displayed in a web browser.\n",
    "\n",
    "Write a Python program and the necessary files to create a web application that enables the list of teams and the team members to be displayed on separate web pages.<br>\n",
    "For each team, the team's web page should include:\n",
    "* the team name\n",
    "* a table consisting of three columns\n",
    "    * The first column contains the character name of the team members,\n",
    "    * The second column contains the event name of the team members,\n",
    "    * The third column contains the player's competition score.\n",
    "\n",
    "The players should be displayed in descending order of their scores.\n",
    "Save your program as: <br>\n",
    "`Task4_3_<your name>.py` <br>\n",
    "with any additional files / subfolders as needed in a folder named: <br>\n",
    "`Task4_3_<your name>` <br>\n",
    "<div style=\"text-align:right;\">[5]</div>\n",
    "Run the web application and save the output of the program as: <br>\n",
    "\n",
    "`Task4_3_<your name>.html` \n",
    "\n",
    "<div style=\"text-align:right;\">[3]</div>"
   ]
  },
  {
   "cell_type": "code",
   "execution_count": null,
   "id": "007046aa",
   "metadata": {},
   "outputs": [],
   "source": [
    "# Task 4.4"
   ]
  }
 ],
 "metadata": {
  "kernelspec": {
   "display_name": "venv-rev (3.13.2)",
   "language": "python",
   "name": "python3"
  },
  "language_info": {
   "codemirror_mode": {
    "name": "ipython",
    "version": 3
   },
   "file_extension": ".py",
   "mimetype": "text/x-python",
   "name": "python",
   "nbconvert_exporter": "python",
   "pygments_lexer": "ipython3",
   "version": "3.13.2"
  }
 },
 "nbformat": 4,
 "nbformat_minor": 5
}
