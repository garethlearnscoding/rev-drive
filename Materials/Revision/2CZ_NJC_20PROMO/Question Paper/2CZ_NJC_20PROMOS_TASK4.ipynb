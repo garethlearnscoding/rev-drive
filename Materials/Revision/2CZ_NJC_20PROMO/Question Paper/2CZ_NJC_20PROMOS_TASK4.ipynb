{
 "cells": [
  {
   "cell_type": "markdown",
   "id": "e5905216",
   "metadata": {},
   "source": [
    "# Task 4: Some School Directory\n",
    "A school directory stores information about schools and staff teaching in the schools. It allows users to query for staff information working in a particular school and department.\n",
    "\n",
    "Information about a school includes:\n",
    "- SchoolCode: a unique 4-digit number to identify the school.\n",
    "- Name: name of the school.\n",
    "- Address: address of the school\n",
    "\n",
    "For staff working in schools, the following information is recorded:\n",
    "- SchoolCode: schoolcode of the school the staff is working at\n",
    "- Name: name of the staff\n",
    "- Department: the department in the school the staff belongs to\n",
    "- Contact: telephone number of the staff\n",
    "\n",
    "It is assume that no staff working in the same school will have the same name.\n",
    "\n",
    "The information described above is currently stored in two files:\n",
    "- `SCHOOL.TXT`\n",
    "- `STAFF.TXT`"
   ]
  },
  {
   "cell_type": "markdown",
   "id": "b24ddd41",
   "metadata": {},
   "source": [
    "## Task 4.1  \n",
    "Create an SQL file called `TASK4_1_<your name>_<NRIC number>.sql`.  \n",
    "Write the SQL code to create the **two tables** in the database named `schools.db`. You are to create the necessary primary, foreign keys and constraints in your SQL code.\n",
    "\n",
    "Execute the sql code in DB Browser to create the database and tables.\n",
    "\n",
    "<div style='text-align: right; font-family: Courier New, monospace;'>[3]</div>"
   ]
  },
  {
   "cell_type": "code",
   "execution_count": null,
   "id": "7fe73b02",
   "metadata": {},
   "outputs": [],
   "source": [
    "# Task 4.1"
   ]
  },
  {
   "cell_type": "markdown",
   "id": "c1235e94",
   "metadata": {},
   "source": [
    "## Task 4.2  \n",
    "The files `SCHOOL.TXT` and `STAFF.TXT` contain information currently stored in the school directory system. Write Python code to migrate them to the database tables created in Task 1.1. The database tables should only contain the data in the two files.\n",
    "\n",
    "Save your Python code as  \n",
    "`TASK4_2_<your name>_<NRIC number>.py`\n",
    "\n",
    "<div style='text-align: right; font-family: Courier New, monospace;'>[3]</div>\n"
   ]
  },
  {
   "cell_type": "code",
   "execution_count": null,
   "id": "cc4dc088",
   "metadata": {},
   "outputs": [],
   "source": [
    "# Task 4.2"
   ]
  },
  {
   "cell_type": "markdown",
   "id": "449e9117",
   "metadata": {},
   "source": [
    "## Task 4.3\n",
    "\n",
    "Write Python code to generate a web form that allows a user to search for staff/s using two fields:\n",
    "\n",
    "&emsp;&emsp;&emsp; i. Name of School  \n",
    "&emsp;&emsp;&emsp; ii. Department  \n",
    "\n",
    "a) The web form should be the default page when you access the web application and should have appropriate formatting and layout.  \n",
    "b) The search field for Name of School should allow for partial match. Example, the search for a school named \"High\" should return  \n",
    "\n",
    "&emsp;&emsp;- NTU High School  \n",
    "&emsp;&emsp;- Queens High School  \n",
    "\n",
    "The search field for Department should be an exact match.       \n",
    "\n",
    "<div style='text-align: right; font-family: Courier New, monospace;'>[3]</div>"
   ]
  },
  {
   "cell_type": "code",
   "execution_count": null,
   "id": "f8be558d",
   "metadata": {},
   "outputs": [],
   "source": [
    "# Task 4.3"
   ]
  },
  {
   "cell_type": "markdown",
   "id": "3d747f81",
   "metadata": {},
   "source": [
    "## Task 4.4\n",
    "\n",
    "Write Python code to:\n",
    "\n",
    "a) return a HTML page that contains a table showing the results of the query in Task 4.3  \n",
    "b) The information to be returned are:  \n",
    "* Name of school  \n",
    "* Name of staff  \n",
    "* Department  \n",
    "* Contact  \n",
    "* Address of school  \n",
    "\n",
    "c) The format of the results should look like:\n",
    "\n",
    "<div style=\"margin-left:20px\">\n",
    "\n",
    "| School | Name | Department | Contact | Address |\n",
    "|---|---|---|---|---|\n",
    "| Queens High School | Melisa | Math | 92468341 | 2 Queenstown |\n",
    "| Queens High School | Yolande | Math | 97135073 | 2 Queenstown |\n",
    "| NTU High School | Uriel | Math | 98946212 | 12 Nanyang Ave |\n",
    "| NTU High School | Caprice | Math | 92780890 | 12 Nanyang Ave |\n",
    "\n",
    "</div>\n",
    "<div style='text-align: right; font-family: Courier New, monospace;'>[5]</div>\n",
    "\n",
    "Save the results of the query as `TASK4_4_<your name>_<NRIC number>.html`  \n",
    "Save your Python program as  \n",
    "`TASK4_4_<your name>_<NRIC number>.py`  \n",
    "with any additional files and sub-folders as needed in a **folder** named  \n",
    "`Task4_<your name>_<NRIC number>`"
   ]
  },
  {
   "cell_type": "code",
   "execution_count": null,
   "id": "f46b5195",
   "metadata": {},
   "outputs": [],
   "source": [
    "# Task 4.4"
   ]
  }
 ],
 "metadata": {
  "language_info": {
   "name": "python"
  }
 },
 "nbformat": 4,
 "nbformat_minor": 5
}
