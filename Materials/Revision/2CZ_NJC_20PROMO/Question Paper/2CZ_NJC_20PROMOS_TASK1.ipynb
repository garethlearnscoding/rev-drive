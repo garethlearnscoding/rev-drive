{
 "cells": [
  {
   "cell_type": "markdown",
   "id": "d447cfc0",
   "metadata": {},
   "source": [
    "# Task 1: Some Hackathon\n",
    "\n",
    "In a software development hackathon competition, participants are being assigned diffrent roles. The participants information is stored in a file,`PARTICIPANTS.TXT`. There are three fields on each line which indicates name, role and gender. The fields are separated by \";\"\n",
    "<br>\n",
    "<div style='font-family: Courier New, monospace;'>\n",
    "Rufus Schuck;Coder;F <br>\n",
    "Ione Wolfe;Manager;F <br>\n",
    "Hillary Curl;Tester;M\n",
    "</div>\n",
    "\n",
    "For each of the sub-tasks, add a comment statement at the beginning of the code using the has symbol '#', to indicate the sub-task the program code belongs to.\n",
    "\n",
    "The file provided is `PARTICIPANTS.TXT`."
   ]
  },
  {
   "cell_type": "markdown",
   "id": "c3451a0e",
   "metadata": {},
   "source": [
    "## Task 1.1\n",
    "Implement the Python function `read_data(filename)` which takes `filename` as a string and returns a 2-dimension Python list that follows the format as shown in the example below.\n",
    "\n",
    "<pre style='font-family: Courier New, monospace;'>\n",
    ">>> read_data(\"PARTICIPANTS.TXT\") \n",
    "[['Rufus Schuck', 'Coder', 'F'], \n",
    "['Ione Wolfe', 'Manager', 'F'], \n",
    "['Hillary Curl', 'Tester', 'M'],...]\n",
    "</pre>\n",
    "\n",
    "Take note that the list shown above is just an example.\n",
    "\n",
    "This list shown above is known as the `participants` list and it contains a list of participants' records.\n",
    "<div style='text-align: right; font-family: Courier New, monospace;'>[2]</div>"
   ]
  },
  {
   "cell_type": "code",
   "execution_count": null,
   "id": "17c66278",
   "metadata": {},
   "outputs": [],
   "source": []
  },
  {
   "cell_type": "markdown",
   "id": "c6e31ef9",
   "metadata": {},
   "source": [
    "## Task 1.2\n",
    "Implement the Python function\n",
    "`gender_count(participants)`\n",
    "\n",
    "which takes a list `partipants`, obtained in **Task 1.1** and returns the number of male and female participants.\n",
    "The following shows an exmaple of how the function is used.\n",
    "\n",
    "<pre style='font-family: Courier New, monospace;'>\n",
    ">>> participants = read_data(\"PARTICIPANTS.TXT\")\n",
    ">>> number_males, number_females = gender_count(participants)\n",
    ">>> print(number_males, number_females)\n",
    "17 33\n",
    "</pre>\n",
    "\n",
    "<div style='text-align: right; font-family: Courier New, monospace;'>[3]</div>"
   ]
  },
  {
   "cell_type": "code",
   "execution_count": null,
   "id": "fc2444d3",
   "metadata": {},
   "outputs": [],
   "source": []
  },
  {
   "cell_type": "markdown",
   "id": "e87791b1",
   "metadata": {},
   "source": [
    "## Task 1.3\n",
    "Implement the Python function\n",
    "`role_statistics(participants)`\n",
    "which takes a list `participants` obtained in **Task 1.1** as input and outputs the number of students for each role in the following format. You are not allowed to hardcode the roles, roles must be determined at run-time.\n",
    "\n",
    "The following shows an example of how the function is used.\n",
    "<pre style='font-family: Courier New, monospace;'>\n",
    ">>> participants = read_data(\"PARTICIPANTS.TXT\")\n",
    ">>> role_statistics(participants)\n",
    "Role    Number\n",
    "Coder    7\n",
    "Manager    13\n",
    "Maker    11\n",
    "Designer    11\n",
    "Tester    7\n",
    "Snakeeater  1\n",
    "</pre>\n",
    "\n",
    "<div style='text-align: right; font-family: Courier New, monospace;'>[4]</div>"
   ]
  },
  {
   "cell_type": "code",
   "execution_count": null,
   "id": "cf24e886",
   "metadata": {},
   "outputs": [],
   "source": []
  },
  {
   "cell_type": "markdown",
   "id": "d4dabdaa",
   "metadata": {},
   "source": [
    "## Task 1.4\n",
    "Implement the Python function\n",
    "`form_group(participants)`\n",
    "which takes a list participants obtained in **Task 1.1** as input and returns a list consisting of 5 participants' records. This list of participants forms a group and must consist of **one coder**, **one maker**, **one tester**, **one manager**, and **one designer**. The participants picked for each role must be random. The five participants that forms the group must have their corresponding records removed from the participants list.\n",
    "\n",
    "If there is not sufficent roles of participants to form a group, return an empty list.\n",
    "\n",
    "The following shows an example of how the function is used.\n",
    "<pre style='font-family: Courier New, monospace;'>\n",
    ">>> participants = read_data(\"PARTICIPANTS.TXT\")\n",
    ">>> form_random_group(participants)\n",
    "[['Shaunda Sieg', 'Coder', 'F'],\n",
    " ['Darlena Crimi', 'Manager', 'F'],\n",
    " ['Phyliss Rolen', 'Maker', 'M'],\n",
    " ['Russell Gillison', 'Designer', 'F'],\n",
    " ['Kathlene Collar', 'Tester', 'M']]\n",
    "</pre>\n",
    "Note:\n",
    "<pre style='font-family: Courier New, monospace;'>\n",
    "'Shaunda Sieg' is a Coder\n",
    "'Darlena Crimi' is a Manager\n",
    "'Phyliss Rolen' is a Maker\n",
    "'Russell Gillison' is a Designer\n",
    "'Kathlene Collar' is a Tester\n",
    "</pre>\n",
    "\n",
    "<div style='text-align: right; font-family: Courier New, monospace;'>[10]</div>"
   ]
  },
  {
   "cell_type": "code",
   "execution_count": null,
   "id": "9dda491e",
   "metadata": {},
   "outputs": [],
   "source": []
  },
  {
   "cell_type": "markdown",
   "id": "78057e1d",
   "metadata": {},
   "source": [
    "## Task 1.5\n",
    "Using your solutions in the previous tasks, write Python code to form as many groups from the participants list obtained in **Task 1.1** and output the groups to a file `GROUPS.TXT`.<br>\n",
    "The file should also include a Group NUmber for each group formed. An example of how the file should look like is as follows:\n",
    "\n",
    "<pre style='font-family: Courier New, monospace;'>\n",
    "Group 1\n",
    "Toney Monab,Coder,M\n",
    "Luanne Lett,Manager,F\n",
    "See Borne,Maker,F\n",
    "Laverna Halpern,Designer,F\n",
    "Chadwick Griffin,Tester,M\n",
    "Group 2\n",
    "Fredricka Gormley,Coder,F\n",
    "Ashely Faye,Manager,M\n",
    "Phyliss Rolen,Maker,M\n",
    "Carolann Kintner,Designer,M\n",
    "Reiko Stack,Tester,F\n",
    "Group 3\n",
    "Rufus Schuck,Coder,F\n",
    "Odis Levalley,Manager,M\n",
    "Teodoro Negrin,Maker,F\n",
    "Russell Gillison,Designer,F\n",
    "Apryl Soileau,Tester,F\n",
    "Group 4\n",
    "Angle Linck,Coder,F\n",
    "Johnna Lecuyer,Manager,F\n",
    "Tashia Bowen,Maker,F\n",
    "Grazyna Kitzman,Designer,M\n",
    "Kathlene Collar,Tester,M\n",
    "</pre>\n",
    "\n",
    "<div style='text-align: right; font-family: Courier New, monospace;'>[5]</div>\n",
    "\n",
    "Save your file as `Task_1_<your name>_<NRIC number>.ipynb`"
   ]
  }
 ],
 "metadata": {
  "language_info": {
   "name": "python"
  }
 },
 "nbformat": 4,
 "nbformat_minor": 5
}
