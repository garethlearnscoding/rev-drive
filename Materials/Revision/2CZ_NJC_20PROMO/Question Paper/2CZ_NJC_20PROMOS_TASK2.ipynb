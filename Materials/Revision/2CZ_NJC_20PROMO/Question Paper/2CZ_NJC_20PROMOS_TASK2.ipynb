{
 "cells": [
  {
   "cell_type": "markdown",
   "id": "1f07e3db",
   "metadata": {},
   "source": [
    "# Task 2: Some Geometric Series\n",
    "\n",
    "For each of the sub-tasks, add a comment statement at the beginning of the code using the has symbol '#', to indicate the sub-task the program code belongs to."
   ]
  },
  {
   "cell_type": "markdown",
   "id": "9ec8c34e",
   "metadata": {},
   "source": [
    "## Task 2.1\n",
    "Implement a recursive function in Python code to compute the summation of a gemometric series:\n",
    "\n",
    "$$S = \\sum_{n=1}^{m} ar^n = ar + ar^2 + ar^3 + \\cdots + ar^m$$\n",
    "\n",
    "$a$, $r$ and $m$ are **integers** entered from standard input in its individual line.\n",
    "\n",
    "The final program should print out\n",
    "* All itmes, separated in whitespace, in the series.\n",
    "* Summation of the series\n",
    "\n",
    "For example, the inputs for $a$, $r$ and $m$ are as follows:\n",
    "<pre style='font-family: Courier New, monospace;'>\n",
    "1\n",
    "2\n",
    "10\n",
    "</pre>\n",
    "\n",
    "Output:\n",
    "<pre style='font-family: Courier New, monospace;'>\n",
    "2 4 8 16 32 64 128 256 512 1024\n",
    "2046\n",
    "</pre>\n",
    "<div style='text-align: right; font-family: Courier New, monospace;'>[9]</div>"
   ]
  },
  {
   "cell_type": "markdown",
   "id": "0875e492",
   "metadata": {},
   "source": [
    "## Task 2.2 \n",
    "The n-th Fibonacci number, in a Fibonacci sequence is defined as:\n",
    "\n",
    "$$ F_n = F_{n-1} + F_{n-2}$$\n",
    "\n",
    "with seed values $F_0 = 0$ and $F_1 = 1$\n",
    "\n",
    "It can be implemented using a recursive Python function as follows:\n",
    "\n",
    "```python\n",
    "def Fibonacci(n):\n",
    "    if n < 0:\n",
    "        print(\"Incorrect input\")\n",
    "    # First Fibonacci number is 0\n",
    "    elif n == 0:\n",
    "        return 0\n",
    "    # Second Fibonacci number is 1\n",
    "    elif n == 1:\n",
    "        return 1\n",
    "    else:\n",
    "        return Fibonacci(n-1) + Fibonacci(n-2)\n",
    "```\n",
    "\n",
    "Convert the recursive Python function into an interative version.\n",
    "<div style='text-align: right; font-family: Courier New, monospace;'>[6]</div>\n",
    "\n",
    "Save your file as `Task_2_<your name>_<NRIC number>.ipynb`\n"
   ]
  }
 ],
 "metadata": {
  "language_info": {
   "name": "python"
  }
 },
 "nbformat": 4,
 "nbformat_minor": 5
}
