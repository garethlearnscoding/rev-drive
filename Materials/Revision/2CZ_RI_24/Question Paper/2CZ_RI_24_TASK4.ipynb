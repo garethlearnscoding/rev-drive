{
 "cells": [
  {
   "cell_type": "markdown",
   "id": "7ec2e63b",
   "metadata": {},
   "source": [
    "# Question 4: Medical Clinic\n",
    "\n",
    "Name this Jupyter Notebook as: <br>\n",
    "`TASK4_<your name>_<class>_<index number>.ipynb`\n",
    "\n",
    "A clinic management system maintains records of patients, medical staff and appointments in a database `CLINIC.db`, which is provided with this question.\n",
    "\n",
    "The database file contains the following tables:\n",
    "* `Patient (PatientID, Name, DOB, ContactNumber)`: Stores information about patients, including their unique patient ID, name, date of birth, and contact number.\n",
    "* `Staff (StaffID, Name, Role, Specialization)`: Stores information about medical staff, including their unique staff ID, name, role ( Doctor / Nurse / Technician ), and specialization.\n",
    "* `Appointment (AppointmentID, PatientID, StaffID, AppointmentDate, Diagnosis)`: Records appointments made by patients, including the appointment ID, patient ID, staff ID, appointment date, and diagnosis.\n",
    "\n",
    "For each of the sub-tasks 4.1 to 4.3, add a comment statement at the beginning of the code using the hash symbol '#', to indicate the sub-task the program code belongs to."
   ]
  },
  {
   "cell_type": "markdown",
   "id": "eff45e5b",
   "metadata": {},
   "source": [
    "## Task 4.1\n",
    "The text files `PATIENT.txt`, `STAFF.txt` and `APPOINTMENT.txt` store the comma-separated values for each of the tables in the database.\n",
    "\n",
    "Write a Python program to read in the data from each file and then store each item of data in the correct place in the database.\n",
    "\n",
    "Run your program.\n",
    "<div style=\"text-align: right\">[4]</div>"
   ]
  },
  {
   "cell_type": "code",
   "execution_count": null,
   "id": "bac0bee1",
   "metadata": {},
   "outputs": [],
   "source": [
    "# Task 4.1"
   ]
  },
  {
   "cell_type": "markdown",
   "id": "874ac17c",
   "metadata": {},
   "source": [
    "## Task 4.2\n",
    "Write an SQL query to retrieve the following data: _Appointment ID_, _Patient ID_, _Patient Name_, _Staff ID_, _Staff Name_, _Appointment Date_, _Diagnosis_\n",
    "\n",
    "In a new cell, write a Python program that uses this SQL query to retrieve the data and display them.\n",
    "\n",
    "Run your program.\n",
    "<div style=\"text-align: right;\">[5]</div>"
   ]
  },
  {
   "cell_type": "code",
   "execution_count": null,
   "id": "819936e5",
   "metadata": {
    "vscode": {
     "languageId": "sql"
    }
   },
   "outputs": [],
   "source": [
    "-- Task 4.2"
   ]
  },
  {
   "cell_type": "code",
   "execution_count": null,
   "id": "33e26090",
   "metadata": {},
   "outputs": [],
   "source": [
    "# Task 4.2"
   ]
  },
  {
   "cell_type": "markdown",
   "id": "8d0b959a",
   "metadata": {
    "vscode": {
     "languageId": "bat"
    }
   },
   "source": [
    "## Task 4.3\n",
    "Write an SQL query to:\n",
    "* Count the total number of appointments each staff member has handled.\n",
    "* Group the results by role ( Doctor / Nurse / Technician) and order them by the number of appointments in descending order\n",
    "* Display the staff members' names, roles and the number of appointments they have handled.\n",
    "\n",
    "In a new cell, write a Python program that uses this SQL query and display the data under suitable headings\n",
    "\n",
    "<div style=\"text-align: right;\">[6]</div>"
   ]
  },
  {
   "cell_type": "code",
   "execution_count": null,
   "id": "4c8240da",
   "metadata": {},
   "outputs": [],
   "source": [
    "# Task 4.3"
   ]
  },
  {
   "cell_type": "markdown",
   "id": "30c9d9b6",
   "metadata": {},
   "source": [
    "## Task 4.4\n",
    "For this sub-task, save your program separately with a .py file extension.\n",
    "\n",
    "Write a Python program and the necessary files to create a web application. The web appplications offers the following menu options:\n",
    "\n",
    "<center>\n",
    "<table>\n",
    "<tr>\n",
    "<td>\n",
    "1. Search Appointment <br>\n",
    "2. List Staff Workload \n",
    "</td>\n",
    "</tr>\n",
    "</table>\n",
    "</center>\n",
    "\n",
    "**For menu option 1**, design a web form that allows users to search for appointments by patient name and appointment date. The form should:\n",
    "* Include input fields for _patient name_ and _appointment date_.\n",
    "* Have a submit button labeled \"`Search`\".\n",
    "\n",
    "The results of the search function should be shown on a web page in a structured table format that shows all details from the `Appointment` table, including patient name and staff name. If no appointments are found, display a message \"No appointments found\".\n",
    "\n",
    "Test your program by selecting menu option 1, and inputting '`David Tan`' as patient name and '`13/08/2024`' as date.\n",
    "\n",
    "**For menu option 2**, display the data retrieved from the SQL query in sub-task 4.3, under these headings on a web page: `Staff Name`, `Staff Role`, `Number of Appointments handled`.\n",
    "\n",
    "Save your program code as:<br>\n",
    "`TASK4_4_<your name>_<class>_<index number>.py`\n",
    "\n",
    "with any additional files/subfolders as needed in a folder named:<br>\n",
    "`TASK4_4_<your name>_<class>_<index number>`\n",
    "\n",
    "Run the web application and save the output as:\n",
    "* `TASK4_4_<your name>_<class>_<index numbers>_1.html` when menu option 1 is selected, input '`David Tan`' as patient name and '`13/08/2024`' as date.\n",
    "* `Task4_4_<your name>_<class>_<index_numbers>_2.html` when menu option 2 is selected\n",
    "\n",
    "<div style=\"text-align: right;\">[14]</div>"
   ]
  },
  {
   "cell_type": "code",
   "execution_count": null,
   "id": "f4331dd9",
   "metadata": {},
   "outputs": [],
   "source": [
    "# Task 4.4"
   ]
  }
 ],
 "metadata": {
  "kernelspec": {
   "display_name": "venv-rev (3.13.2)",
   "language": "python",
   "name": "python3"
  },
  "language_info": {
   "codemirror_mode": {
    "name": "ipython",
    "version": 3
   },
   "file_extension": ".py",
   "mimetype": "text/x-python",
   "name": "python",
   "nbconvert_exporter": "python",
   "pygments_lexer": "ipython3",
   "version": "3.13.2"
  }
 },
 "nbformat": 4,
 "nbformat_minor": 5
}
