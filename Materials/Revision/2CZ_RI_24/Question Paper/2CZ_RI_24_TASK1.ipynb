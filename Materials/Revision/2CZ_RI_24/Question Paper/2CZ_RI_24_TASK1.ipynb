{
 "cells": [
  {
   "cell_type": "markdown",
   "id": "58edf2f3",
   "metadata": {},
   "source": [
    "# Question 1: Online Shopping Platform\n",
    "\n",
    "Name this Jupyter Notebook as: <br>\n",
    "`TASK1_<your name>_<class>_<index number>.ipynb`\n",
    "\n",
    "An online shopping platform stores its data in a SQL database.\n",
    "\n",
    "The platform needs to store information about products, customers, and order.\n",
    "\n",
    "Your task is to perform several operations on the database.\n",
    "\n",
    "For each of the sub-tasks, add a comment statement at the beginning of the code using the hash symbol '#' to indicate the sub-task the program code belongs to."
   ]
  },
  {
   "cell_type": "markdown",
   "id": "0313898b",
   "metadata": {},
   "source": [
    "## Task 1.1 [Modified]\n",
    "\n",
    "Write Python code to create a SQLite database named online_shop. Ensure that this database is empty before proceeding\n",
    "\n",
    "Three comma-separated value files are provided, each containing multiple records to be inserted into specific collections within the database. The files are `PRODUCTS.csv`, `CUSTOMERS.csv` and `ORDERS.csv`.\n",
    "\n",
    "**PRODUCTS.csv:** <br>\n",
    "`<product_id>,<name>,<model>,<category>,<price>,<stock>`\n",
    "\n",
    "**CUSTOMERS.csv:** <br>\n",
    "`<customer_id>,<name>,<email>,<phone>`\n",
    "\n",
    "**ORDERS.csv:** <br>\n",
    "`<order_id>,<customer_id>,<product_id>,<quantity>,<order_date>`\n",
    "\n",
    "\n",
    "Create tables named `PRODUCTS`, `CUSTOMERS`, and `ORDERS`, read the CSV files provided and insert the data from each CSV file into its corresponding table using SQL queries.\n",
    "\n",
    "The tables should be constructed as follows: <br>\n",
    "`PRODUCTS (product_id,name,model,category,price,stock)` <br>\n",
    "`CUSTOMERS (customer_id,name,email,phone)` <br>\n",
    "`ORDERS (order_id,customer_id,product_id,quantity,order_date)` <br>\n",
    "\n",
    "Include the necessary primary and foreign keys and ensure that each column has its suitable data type.\n",
    "\n",
    "\n",
    "\n",
    "Save the SQL command in a file named: <br>\n",
    "`TASK1_<your name>_<class>_<index number>_tables.sql`\n",
    "\n",
    "<div style=\"text-align: right\">[3]</div>"
   ]
  },
  {
   "cell_type": "code",
   "execution_count": null,
   "id": "d53cc31a",
   "metadata": {},
   "outputs": [],
   "source": [
    "# Task 1.1"
   ]
  },
  {
   "cell_type": "markdown",
   "id": "557be318",
   "metadata": {},
   "source": [
    "## Task 1.2\n",
    "Add to your program code to retrieve and display all products in the Books category from the `products` table.\n",
    "\n",
    "Display the data in a readable format.\n",
    "Run your program.\n",
    "\n",
    "<div style=\"text-align:right;\">[2]</div>"
   ]
  },
  {
   "cell_type": "code",
   "execution_count": null,
   "id": "28c96600",
   "metadata": {},
   "outputs": [],
   "source": [
    "# Task 1."
   ]
  },
  {
   "cell_type": "markdown",
   "id": "72bfcd2c",
   "metadata": {},
   "source": [
    "## Task 1.3\n",
    "Add to your program code to find all orders placed by the customer named `Charles`. Assume there is only one customer with this name.\n",
    "\n",
    "Display the details of these orders from the `orders` table in a readable format.\n",
    "\n",
    "<div style=\"text-align:right;\">[4]</div>\n"
   ]
  },
  {
   "cell_type": "code",
   "execution_count": null,
   "id": "2cc53eaf",
   "metadata": {},
   "outputs": [],
   "source": [
    "# Task 1.3"
   ]
  },
  {
   "cell_type": "markdown",
   "id": "f58cd000",
   "metadata": {},
   "source": [
    "## Task 1.4\n",
    "Add to your program code to calculate the revenue generated from all orders.\n",
    "Display the revenue in a tabular format with headers for Order ID and Revenue.\n",
    "\n",
    "For each order, compute the revenue as the sum of the price of each product multiplied by the quantity ordered.\n",
    "\n",
    "Run your program\n",
    "\n",
    "<div style=\"text-align: right\">[5]</div>"
   ]
  },
  {
   "cell_type": "code",
   "execution_count": null,
   "id": "b10d99a0",
   "metadata": {},
   "outputs": [],
   "source": [
    "# Task 1.4"
   ]
  }
 ],
 "metadata": {
  "kernelspec": {
   "display_name": "Python (venv-promos)",
   "language": "python",
   "name": "venv-promos"
  },
  "language_info": {
   "codemirror_mode": {
    "name": "ipython",
    "version": 3
   },
   "file_extension": ".py",
   "mimetype": "text/x-python",
   "name": "python",
   "nbconvert_exporter": "python",
   "pygments_lexer": "ipython3",
   "version": "3.13.2"
  }
 },
 "nbformat": 4,
 "nbformat_minor": 5
}
