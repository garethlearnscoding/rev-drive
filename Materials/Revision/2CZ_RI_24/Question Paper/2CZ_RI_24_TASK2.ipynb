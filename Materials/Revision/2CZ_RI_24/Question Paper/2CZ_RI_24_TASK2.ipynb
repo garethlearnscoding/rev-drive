{
 "cells": [
  {
   "cell_type": "markdown",
   "id": "c2d063c7",
   "metadata": {},
   "source": [
    "# Question 2: International Coding Competition\n",
    "\n",
    "Name this Jupyter Notebook as: <br>\n",
    "`TASK2_<your name>_<class>_<index number>.ipynb`\n",
    "\n",
    "For each of the sub-tasks, add a comment statement at the beginning of the code using the hash symbol '#' to indicate the sub-task the program code belongs to."
   ]
  },
  {
   "cell_type": "markdown",
   "id": "fe7c0252",
   "metadata": {},
   "source": [
    "## Task 2.1\n",
    "Write an insertion sort function that takes three parameters: `data_list`,`index`,`ascending` and returns a sorted `data_list`.\n",
    "\n",
    "* `data_list` is a list of tuples.\n",
    "* `index` is an integer to specify an index within a tuple.\n",
    "* `ascending` is a Boolean flag.\n",
    "\n",
    "The function will sort `data_list` base on the values at the specified `index` within the tuples. The `ascending` parameter determins the order of the sort: `True` for ascending order, `False` for descending order.\n",
    "\n",
    "The function specification is:\n",
    "\n",
    "```python\n",
    "FUNCTION insertion_sort(data_list: List[Tuple], index: Integer, ascending:Boolean) RETURN List[Tuple]\n",
    "```\n",
    "| Note: The syntax that follows the positional argument is just type hinting.\n",
    "\n",
    "<div style=\"text-align: right\">[6]</div>\n",
    "\n",
    "> Example of `insertion_sort` function call:\n",
    ">```python\n",
    "> data_list = [(1,'Alice', 85), (2, 'Bob',90), (3,'Charlie',80)]\n",
    "> sorted_list = insertion_sort(data_list, 2, ascending=False)\n",
    "> print(sorted_list)\n",
    ">\n",
    "> # Output: [(2,'Bob',90), (1,'Alice',85), (3,'Charlie',80)]\n",
    ">```\n",
    "\n"
   ]
  },
  {
   "cell_type": "code",
   "execution_count": null,
   "id": "bf4f7e38",
   "metadata": {},
   "outputs": [],
   "source": [
    "# Task 2.1      "
   ]
  },
  {
   "cell_type": "markdown",
   "id": "6ad2d2ae",
   "metadata": {},
   "source": [
    "## Task 2.2\n",
    "At an international coding competition, the results of the participants were recorded in a text file `CODING_COMPETITION.txt`.\n",
    "\n",
    "Each record int he file has the following format, with each field separated by a comma:\n",
    "`<participant_id>,<participant_name>,<country>,<score>`\n",
    "\n",
    "Write a function `task2_2` that takes a `filename` as parameter, reads the comma-separated data from the file and returns the data as a list of tuples:\n",
    "\n",
    "> Example: After calling function `task2_2`, these sample records in the file: <br>\n",
    ">\n",
    "> `101,Jong Tan,Singapore,210` <br>\n",
    "> `102,Mei Ling,Singapore,190` <br>\n",
    ">\n",
    "> will be returned as <br>\n",
    "> `[('101','Jong Tan','Singapore',210),('102','Mei Ling','Singapore',190)]`\n",
    "\n",
    "Test your function by calling `task2_2(\"CODING_COMPETITION.txt\")`\n",
    "<div style=\"text-align: right\">[5]<div>"
   ]
  },
  {
   "cell_type": "code",
   "execution_count": null,
   "id": "161ac940",
   "metadata": {},
   "outputs": [],
   "source": [
    "# Task 2.2"
   ]
  },
  {
   "cell_type": "markdown",
   "id": "14c3115a",
   "metadata": {},
   "source": [
    "## Task 2.3\n",
    "Write a function `task2_3` that performs the following:\n",
    "* Use the list of tuples returned from the function `task2_2`.\n",
    "* Sort the list by country in alphabetical order, using the `insertion_sort` function\n",
    "* Within each country, sort the participants by their scores in descending order using the `insertion_sort` function.\n",
    "* Write the sorted data to a text file `SCORE_BY_COUNTRY.txt` in the format: <br>\n",
    "`<country>,<participant id>,<participant name>,<score>`.\n",
    "* Each record should be on a new line\n",
    "\n",
    "The output file should contain lines of record that is first sorted by country then by score. Sample lines in output file:\n",
    "\n",
    "<center>\n",
    "\n",
    "<table border=\"1\">\n",
    "  <tr style=\"font-family: 'Courier New', monospace;\">\n",
    "    <td>Australia,249,James Scott, 235<br>\n",
    "        Australia,267,Liam Taylor, 230<br>\n",
    "        Australia,139,Daniel Miller, 225<br>\n",
    "        ...<br>\n",
    "        Singapore,101,Jong Tan,210<br>\n",
    "        ...</td>\n",
    "  </tr>\n",
    "</table>\n",
    "\n",
    "</center>\n",
    "\n",
    "Run your function `task2_3` \n",
    "<div style=\"text-align:right;\">[9]</div>"
   ]
  },
  {
   "cell_type": "code",
   "execution_count": null,
   "id": "2488688e",
   "metadata": {},
   "outputs": [],
   "source": [
    "# Task 2.3"
   ]
  }
 ],
 "metadata": {
  "kernelspec": {
   "display_name": "venv-rev (3.13.2)",
   "language": "python",
   "name": "python3"
  },
  "language_info": {
   "codemirror_mode": {
    "name": "ipython",
    "version": 3
   },
   "file_extension": ".py",
   "mimetype": "text/x-python",
   "name": "python",
   "nbconvert_exporter": "python",
   "pygments_lexer": "ipython3",
   "version": "3.13.2"
  }
 },
 "nbformat": 4,
 "nbformat_minor": 5
}
