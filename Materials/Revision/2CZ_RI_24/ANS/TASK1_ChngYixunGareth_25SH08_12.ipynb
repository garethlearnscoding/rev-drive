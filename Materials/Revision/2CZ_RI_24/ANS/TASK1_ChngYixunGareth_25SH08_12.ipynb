{
 "cells": [
  {
   "cell_type": "markdown",
   "id": "58edf2f3",
   "metadata": {},
   "source": [
    "# Question 1: Online Shopping Platform\n",
    "\n",
    "Name this Jupyter Notebook as: <br>\n",
    "`TASK1_<your name>_<class>_<index number>.ipynb`\n",
    "\n",
    "An online shopping platform stores its data in a SQL database.\n",
    "\n",
    "The platform needs to store information about products, customers, and order.\n",
    "\n",
    "Your task is to perform several operations on the database.\n",
    "\n",
    "For each of the sub-tasks, add a comment statement at the beginning of the code using the hash symbol '#' to indicate the sub-task the program code belongs to."
   ]
  },
  {
   "cell_type": "markdown",
   "id": "0313898b",
   "metadata": {},
   "source": [
    "## Task 1.1\n",
    "\n",
    "Write Python code to create a SQLite database named online_shop. Ensure that this database is empty before proceeding\n",
    "\n",
    "Three JSON files are provided, each containing multiple records to be inserted into specific collections within the database. THe files are `PRODUCTS.json`, `CUSTOMERS.json` and `ORDERS.json`.\n",
    "\n",
    "Create collections named products, customers, and orders, and insert the data from each JSON file into the corresponding collection:\n",
    "\n",
    "<div style=\"text-align: right\">[3]</div>\n",
    "\n",
    "<br>\n",
    "<center>\n",
    "\n",
    "<table>\n",
    "  <tr>\n",
    "    <th>JSON file</th>\n",
    "    <th>Insert into collection</th>\n",
    "    <th>Sample JSON record</th>\n",
    "  </tr>\n",
    "  <tr>\n",
    "    <td style=\"vertical-align: top;\">PRODUCTS</td>\n",
    "    <td style=\"vertical-align: top;\">products</td>\n",
    "    <td>\n",
    "      <pre>\n",
    "    {\n",
    "        \"product_id\": 1,\n",
    "        \"name\": \"Laptop\",\n",
    "        \"model\": \"XPS 13\",\n",
    "        \"category\": \"Electronics\",\n",
    "        \"price\": 1200,\n",
    "        \"stock\": 30\n",
    "    }\n",
    "      </pre>\n",
    "    </td>\n",
    "  </tr>\n",
    "  <tr>\n",
    "    <td style=\"vertical-align: top;\">CUSTOMERS</td>\n",
    "    <td style=\"vertical-align: top;\">customers</td>\n",
    "    <td>\n",
    "      <pre>\n",
    "    {\n",
    "        \"customer_id\": 1,\n",
    "        \"name\": \"Alex\",\n",
    "        \"email\": \"alexB@abc.com\",\n",
    "        \"phone\": \"12345678\"\n",
    "    }\n",
    "      </pre>\n",
    "    </td>\n",
    "  </tr>\n",
    "  <tr>\n",
    "    <td style=\"vertical-align: top;\">ORDERS</td>\n",
    "    <td style=\"vertical-align: top;\">orders</td>\n",
    "    <td>\n",
    "      <pre>\n",
    "    {\n",
    "        \"order_id\": 1,\n",
    "        \"customer_id\": 1,\n",
    "        \"products\": [\n",
    "            {\"product_id\": 2, \n",
    "            \"quantity\": 1}],\n",
    "        \"order_date\": \"2024-01-15\"\n",
    "    }\n",
    "      </pre>\n",
    "    </td>\n",
    "  </tr>\n",
    "</table>\n",
    "\n",
    "\n",
    "\n",
    "</center>\n",
    "\n",
    "\n",
    "| **Note**: Use the following syntax to read the JSON file\n",
    ">```python\n",
    "> import json\n",
    "> with open(file_path) as file:\n",
    ">     data = json.load(file)\n",
    ">```\n",
    "\n",
    "\n"
   ]
  },
  {
   "cell_type": "code",
   "execution_count": null,
   "id": "d53cc31a",
   "metadata": {},
   "outputs": [],
   "source": [
    "# Task 1.1"
   ]
  },
  {
   "cell_type": "markdown",
   "id": "557be318",
   "metadata": {},
   "source": [
    "## Task 1.2\n",
    "Add to your program code to retrieve and display all products in the Books category from the `products` collection.\n",
    "\n",
    "Use the `pprint` module to display your data in a readable format:\n",
    "\n",
    "> ```python\n",
    "> from pprint import pprint\n",
    "> pprint(your_data)\n",
    "> ```\n",
    "\n",
    "Run your program\n",
    "\n",
    "<div style=\"text-align:right;\">[2]</div>"
   ]
  },
  {
   "cell_type": "code",
   "execution_count": null,
   "id": "28c96600",
   "metadata": {},
   "outputs": [],
   "source": [
    "# Task 1.2"
   ]
  },
  {
   "cell_type": "markdown",
   "id": "72bfcd2c",
   "metadata": {},
   "source": [
    "## Task 1.3\n",
    "Add to your program code to find all orders placed by the customer named `Charles`. Assume there is only one customer with this name.\n",
    "\n",
    "Display the details of these orders from the orders collection.\n",
    "User `pprint` to display your data in a readable format.\n",
    "Run your program.\n",
    "\n",
    "<div style=\"text-align:right;\">[4]</div>\n"
   ]
  },
  {
   "cell_type": "code",
   "execution_count": null,
   "id": "2cc53eaf",
   "metadata": {},
   "outputs": [],
   "source": [
    "# Task 1.3"
   ]
  },
  {
   "cell_type": "markdown",
   "id": "f58cd000",
   "metadata": {},
   "source": [
    "## Task 1.4\n",
    "Add to your program code to calculate the revenue generated from all orders.\n",
    "Display the revenue in a tabular format with headers for Order ID and Revenue.\n",
    "\n",
    "For each order, compute the revenue as the sum of the price of each product multiplied by the quantity ordered.\n",
    "\n",
    "<details>\n",
    "<summary>Optional [ HTML Practice ] </summary>\n",
    "- Add in a Markdown cell and use html to make a table to display the data\n",
    "</details>\n",
    "\n",
    "Run your program.\n",
    "<div style=\"text-align: right\">[5]</div>\n",
    "\n"
   ]
  },
  {
   "cell_type": "code",
   "execution_count": null,
   "id": "b10d99a0",
   "metadata": {},
   "outputs": [],
   "source": [
    "# Task 1.4"
   ]
  }
 ],
 "metadata": {
  "language_info": {
   "name": "python"
  }
 },
 "nbformat": 4,
 "nbformat_minor": 5
}
