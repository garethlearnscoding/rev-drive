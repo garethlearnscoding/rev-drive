{
 "cells": [
  {
   "cell_type": "markdown",
   "id": "7ec2e63b",
   "metadata": {},
   "source": [
    "# Question 4: Medical Clinic\n",
    "\n",
    "Name this Jupyter Notebook as: <br>\n",
    "`TASK4_<your name>_<class>_<index number>.ipynb`\n",
    "\n",
    "A clinic management system maintains records of patients, medical staff and appointments in a database `CLINIC.db`, which is provided with this question.\n",
    "\n",
    "The database file contains the following tables:\n",
    "* `Patient (PatientID, Name, DOB, ContactNumber)`: Stores information about patients, including their unique patient ID, name, date of birth, and contact number.\n",
    "* `Staff (StaffID, Name, Role, Specialization)`: Stores information about medical staff, including their unique staff ID, name, role ( Doctor / Nurse / Technician ), and specialization.\n",
    "* `Appointment (AppointmentID, PatientID, StaffID, AppointmentDate, Diagnosis)`: Records appointments made by patients, including the appointment ID, patient ID, staff ID, appointment date, and diagnosis.\n",
    "\n",
    "For each of the sub-tasks 4.1 to 4.3, add a comment statement at the beginning of the code using the hash symbol '#', to indicate the sub-task the program code belongs to."
   ]
  },
  {
   "cell_type": "markdown",
   "id": "eff45e5b",
   "metadata": {},
   "source": [
    "## Task 4.1\n",
    "The text files `PATIENT.txt`, `STAFF.txt` and `APPOINTMENT.txt` store the comma-separated values for each of the tables in the database.\n",
    "\n",
    "Write a Python program to read in the data from each file and then store each item of data in the correct place in the database.\n",
    "\n",
    "Run your program.\n",
    "<div style=\"text-align: right\">[4]</div>"
   ]
  },
  {
   "cell_type": "code",
   "execution_count": null,
   "id": "bac0bee1",
   "metadata": {},
   "outputs": [],
   "source": [
    "# Task 4.1\n",
    "import csv\n",
    "import sqlite3\n",
    "\n",
    "with open(\"./Resources/TASK4/PATIENT.txt\") as file:\n",
    "    reader = csv.reader(file)\n",
    "    patient_data = [tuple(i) for i in reader]\n",
    "\n",
    "with open(\"./Resources/TASK4/Staff.txt\") as file:\n",
    "    reader = csv.reader(file)\n",
    "    staff_data = [tuple(i) for i in reader]\n",
    "\n",
    "with open(\"./Resources/TASK4/APPOINTMENT.txt\") as file:\n",
    "    reader = csv.reader(file)\n",
    "    appointment_data = [tuple(i) for i in reader]\n",
    "\n",
    "\n",
    "conn = sqlite3.connect(\"./Resources/TASK4/CLINIC.db\")\n",
    "conn.executemany(\"INSERT INTO Patient (PatientID, Name, DOB, ContactNumber) VALUES (?,?,?,?)\",patient_data)\n",
    "conn.executemany(\"INSERT INTO Staff (StaffID, Name, Role, Specialization) VALUES (?,?,?,?)\",staff_data)\n",
    "conn.executemany(\"INSERT INTO Appointment (AppointmentID, PatientID, StaffID, AppointmentDate, Diagnosis) VALUES (?,?,?,?,?)\",appointment_data)\n",
    "conn.commit()\n",
    "conn.close()\n",
    "\n"
   ]
  },
  {
   "cell_type": "markdown",
   "id": "874ac17c",
   "metadata": {},
   "source": [
    "## Task 4.2\n",
    "Write an SQL query to retrieve the following data: _Appointment ID_, _Patient ID_, _Patient Name_, _Staff ID_, _Staff Name_, _Appointment Date_, _Diagnosis_\n",
    "\n",
    "In a new cell, write a Python program that uses this SQL query to retrieve the data and display them.\n",
    "\n",
    "Run your program.\n",
    "<div style=\"text-align: right;\">[5]</div>"
   ]
  },
  {
   "cell_type": "code",
   "execution_count": null,
   "id": "819936e5",
   "metadata": {
    "vscode": {
     "languageId": "sql"
    }
   },
   "outputs": [],
   "source": [
    "-- Task 4.2\n",
    "SELECT a.AppointmentID, a.PatientID,p.Name,a.StaffID,s.Name,a.AppointmentDate,a.Diagnosis \n",
    "from Appointment a \n",
    "JOIN Patient p ON a.PatientID = p.PatientID \n",
    "JOIN Staff s ON a.StaffID = s.StaffID"
   ]
  },
  {
   "cell_type": "code",
   "execution_count": null,
   "id": "33e26090",
   "metadata": {},
   "outputs": [],
   "source": [
    "# Task 4.2\n",
    "import sqlite3 \n",
    "\n",
    "conn = sqlite3.connect(\"./Resources/TASK4/CLINIC.db\")\n",
    "query = \"\"\"SELECT a.AppointmentID, a.PatientID,p.Name,a.StaffID,s.Name,a.AppointmentDate,a.Diagnosis \n",
    "from Appointment a \n",
    "JOIN Patient p ON a.PatientID = p.PatientID \n",
    "JOIN Staff s ON a.StaffID = s.StaffID\"\"\"\n",
    "cursor = conn.execute(query)\n",
    "data = cursor.fetchall()\n",
    "conn.close()\n",
    "\n",
    "for i in data:\n",
    "    print(i)"
   ]
  },
  {
   "cell_type": "markdown",
   "id": "8d0b959a",
   "metadata": {
    "vscode": {
     "languageId": "bat"
    }
   },
   "source": [
    "## Task 4.3\n",
    "Write an SQL query to:\n",
    "* Count the total number of appointments each staff member has handled.\n",
    "* Group the results by role ( Doctor / Nurse / Technician) and order them by the number of appointments in descending order\n",
    "* Display the staff members' names, roles and the number of appointments they have handled.\n",
    "\n",
    "In a new cell, write a Python program that uses this SQL query and display the data under suitable headings\n",
    "\n",
    "<div style=\"text-align: right;\">[6]</div>\n",
    "\n",
    "**Display of Data** <br>\n",
    "Use the `tabulate` module to display your data in a table.\n",
    "\n",
    "[Reference](https://pypi.org/project/tabulate \"Open PYPI Page\")\n",
    "\n",
    "Pip install the tabulate python module by opening ur terminal and running the following command:\n",
    "\n",
    "> ```bash \n",
    "> pip3 install tabulate\n",
    ">```\n",
    "\n",
    "**Example Usage:**\n",
    "\n",
    ">```python\n",
    "> from tabulate import tabulate\n",
    "> data = [\n",
    ">    [\"Alice\", 24, \"Engineer\"],\n",
    ">    [\"Bob\", 30, \"Designer\"],\n",
    ">    [\"Charlie\", 22, \"Student\"]\n",
    "> ]\n",
    "> headers = [\"Name\",\"Age\",\"Occupation\"]\n",
    "> print(tabulate(data,headers=headers))\n",
    ">\n",
    "> \"\"\"\n",
    "> Output:\n",
    "> Name      Age  Occupation\n",
    "> ------  -----  ----------\n",
    "> Alice      24  Engineer\n",
    "> Bob        30  Designer\n",
    "> Charlie    22  Student\n",
    "> \"\"\"\n",
    ">```"
   ]
  },
  {
   "cell_type": "code",
   "execution_count": null,
   "id": "4c8240da",
   "metadata": {},
   "outputs": [],
   "source": [
    "# Task 4.3\n",
    "import sqlite3\n",
    "from tabulate import tabulate\n",
    "\n",
    "conn = sqlite3.connect(\"./Resources/TASK4/CLINIC.db\")\n",
    "query =\"\"\"SELECT s.Name, s.Role, COUNT(a.AppointmentID) AS count FROM Appointment a JOIN Staff s ON a.staffID = s.StaffID GROUP BY s.Name,s.Role ORDER BY count DESC\"\"\"\n",
    "cursor = conn.execute(query)\n",
    "data = cursor.fetchall()\n",
    "conn.close()\n",
    "\n",
    "# Using f-string syntax\n",
    "print(f\"{\"Staff Name\":<20} {\"Role\":>18} {\"Appointments\":>32}\")\n",
    "print(\".\"*72)\n",
    "for i in data:\n",
    "    print(f\"{i[0]:<20} {i[1]:>20} {i[-1]:>30}\")\n",
    "\n",
    "# Using tabulate Module\n",
    "headers = [\"Staff Name\",\"Role\",\"Appoinments\"]\n",
    "print(tabulate(data,headers=headers))"
   ]
  },
  {
   "cell_type": "markdown",
   "id": "30c9d9b6",
   "metadata": {},
   "source": [
    "## Task 4.4\n",
    "For this sub-task, save your program separately with a .py file extension.\n",
    "\n",
    "Write a Python program and the necessary files to create a web application. The web appplications offers the following menu options:\n",
    "\n",
    "<center>\n",
    "<table>\n",
    "<tr>\n",
    "<td>\n",
    "1. Search Appointment <br>\n",
    "2. List Staff Workload \n",
    "</td>\n",
    "</tr>\n",
    "</table>\n",
    "</center>\n",
    "\n",
    "**For menu option 1**, design a web form that allows users to search for appointments by patient name and appointment date. The form should:\n",
    "* Include input fields for _patient name_ and _appointment date_.\n",
    "* Have a submit button labeled \"`Search`\".\n",
    "\n",
    "The results of the search function should be shown on a web page in a structured table format that shows all details from the `Appointment` table, including patient name and staff name. If no appointments are found, display a message \"No appointments found\".\n",
    "\n",
    "Test your program by selecting menu option 1, and inputting '`David Tan`' as patient name and '`13/08/2024`' as date.\n",
    "\n",
    "**For menu option 2**, display the data retrieved from the SQL query in sub-task 4.3, under these headings on a web page: `Staff Name`, `Staff Role`, `Number of Appointments handled`.\n",
    "\n",
    "Save your program code as:<br>\n",
    "`TASK4_4_<your name>_<class>_<index number>.py`\n",
    "\n",
    "with any additional files/subfolders as needed in a folder named:<br>\n",
    "`TASK4_4_<your name>_<class>_<index number>`\n",
    "\n",
    "Run the web application and save the output as:\n",
    "* `TASK4_4_<your name>_<class>_<index numbers>_1.html` when menu option 1 is selected, input '`David Tan`' as patient name and '`13/08/2024`' as date.\n",
    "* `Task4_4_<your name>_<class>_<index_numbers>_2.html` when menu option 2 is selected\n",
    "\n",
    "<div style=\"text-align: right;\">[14]</div>"
   ]
  },
  {
   "cell_type": "code",
   "execution_count": 20,
   "id": "f4331dd9",
   "metadata": {},
   "outputs": [
    {
     "name": "stdout",
     "output_type": "stream",
     "text": [
      " * Serving Flask app '__main__'\n",
      " * Debug mode: off\n"
     ]
    },
    {
     "name": "stderr",
     "output_type": "stream",
     "text": [
      "WARNING: This is a development server. Do not use it in a production deployment. Use a production WSGI server instead.\n",
      " * Running on http://127.0.0.1:5000\n",
      "Press CTRL+C to quit\n",
      "127.0.0.1 - - [10/Sep/2025 23:24:45] \"GET /workload HTTP/1.1\" 200 -\n",
      "127.0.0.1 - - [10/Sep/2025 23:24:45] \"GET /workload HTTP/1.1\" 200 -\n"
     ]
    }
   ],
   "source": [
    "# Task 4.4\n",
    "from flask import Flask, render_template, request\n",
    "import sqlite3\n",
    "\n",
    "app = Flask(__name__)\n",
    "\n",
    "@app.route('/')\n",
    "def home():\n",
    "    return render_template(\"index.html\")\n",
    "\n",
    "@app.route('/search')\n",
    "def search():\n",
    "    return render_template(\"search.html\")\n",
    "\n",
    "@app.route('/workload')\n",
    "def workload():\n",
    "    conn = sqlite3.connect(\"./Resources/TASK4/CLINIC.db\")\n",
    "    query =\"\"\"SELECT s.Name, s.Role, COUNT(a.AppointmentID) AS count FROM Appointment a JOIN Staff s ON a.staffID = s.StaffID GROUP BY s.Name,s.Role ORDER BY count DESC\"\"\"\n",
    "    cursor = conn.execute(query)\n",
    "    data = cursor.fetchall()\n",
    "    conn.close()\n",
    "    return render_template(\"workload.html\",dataset=data)\n",
    "\n",
    "@app.route('/query',methods=[\"POST\"])\n",
    "def query():\n",
    "    if request.method == \"POST\":\n",
    "        patient_name = request.form[\"Name\"]\n",
    "        date = request.form[\"Date\"]\n",
    "        print(request.form)\n",
    "        try: \n",
    "            conn = sqlite3.connect(\"./Resources/TASK4/CLINIC.db\")\n",
    "            query = \"\"\"SELECT a.AppointmentID, a.PatientID,p.Name,a.StaffID,s.Name,a.AppointmentDate,a.Diagnosis \n",
    "            from Appointment a \n",
    "            JOIN Patient p ON a.PatientID = p.PatientID \n",
    "            JOIN Staff s ON a.StaffID = s.StaffID\n",
    "            WHERE p.Name = ? AND a.AppointmentDate = ?\n",
    "            \"\"\"\n",
    "            cursor = conn.execute(query,(patient_name,date))\n",
    "            data = cursor.fetchone()\n",
    "            print(data)\n",
    "            conn.close()\n",
    "        except:\n",
    "            data = \"\"\n",
    "\n",
    "    return render_template(\"results.html\",dataset = data)\n",
    "\n",
    "\n",
    "app.run()"
   ]
  }
 ],
 "metadata": {
  "kernelspec": {
   "display_name": "venv-rev (3.13.2)",
   "language": "python",
   "name": "python3"
  },
  "language_info": {
   "codemirror_mode": {
    "name": "ipython",
    "version": 3
   },
   "file_extension": ".py",
   "mimetype": "text/x-python",
   "name": "python",
   "nbconvert_exporter": "python",
   "pygments_lexer": "ipython3",
   "version": "3.13.2"
  }
 },
 "nbformat": 4,
 "nbformat_minor": 5
}
