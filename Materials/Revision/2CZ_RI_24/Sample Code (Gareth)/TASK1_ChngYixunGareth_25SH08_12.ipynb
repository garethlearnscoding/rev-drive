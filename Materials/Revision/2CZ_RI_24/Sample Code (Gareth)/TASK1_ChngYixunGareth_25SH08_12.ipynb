{
 "cells": [
  {
   "cell_type": "markdown",
   "id": "58edf2f3",
   "metadata": {},
   "source": [
    "# Question 1: Online Shopping Platform\n",
    "\n",
    "Name this Jupyter Notebook as: <br>\n",
    "`TASK1_<your name>_<class>_<index number>.ipynb`\n",
    "\n",
    "An online shopping platform stores its data in a SQL database.\n",
    "\n",
    "The platform needs to store information about products, customers, and order.\n",
    "\n",
    "Your task is to perform several operations on the database.\n",
    "\n",
    "For each of the sub-tasks, add a comment statement at the beginning of the code using the hash symbol '#' to indicate the sub-task the program code belongs to."
   ]
  },
  {
   "cell_type": "markdown",
   "id": "0313898b",
   "metadata": {},
   "source": [
    "## Task 1.1 [Modified]\n",
    "\n",
    "Write Python code to create a SQLite database named online_shop. Ensure that this database is empty before proceeding\n",
    "\n",
    "Three comma-separated value files are provided, each containing multiple records to be inserted into specific collections within the database. The files are `PRODUCTS.csv`, `CUSTOMERS.csv` and `ORDERS.csv`.\n",
    "\n",
    "**PRODUCTS.csv:** <br>\n",
    "`<product_id>,<name>,<model>,<category>,<price>,<stock>`\n",
    "\n",
    "**CUSTOMERS.csv:** <br>\n",
    "`<customer_id>,<name>,<email>,<phone>`\n",
    "\n",
    "**ORDERS.csv:** <br>\n",
    "`<order_id>,<customer_id>,<product_id>,<quantity>,<order_date>`\n",
    "\n",
    "\n",
    "Create tables named `PRODUCTS`, `CUSTOMERS`, and `ORDERS`, read the CSV files provided and insert the data from each CSV file into its corresponding table using SQL queries.\n",
    "\n",
    "The tables should be constructed as follows: <br>\n",
    "`PRODUCTS (product_id,name,model,category,price,stock)` <br>\n",
    "`CUSTOMERS (customer_id,name,email,phone)` <br>\n",
    "`ORDERS (order_id,customer_id,product_id,quantity,order_date)` <br>\n",
    "\n",
    "Include the necessary primary and foreign keys and ensure that each column has its suitable data type.\n",
    "\n",
    "\n",
    "\n",
    "Save the SQL command in a file named: <br>\n",
    "`TASK1_<your name>_<class>_<index number>_tables.sql`\n",
    "\n",
    "<div style=\"text-align: right\">[3]</div>"
   ]
  },
  {
   "cell_type": "code",
   "execution_count": 1,
   "id": "d53cc31a",
   "metadata": {},
   "outputs": [],
   "source": [
    "# Task 1.1\n",
    "import sqlite3\n",
    "import csv\n",
    "# CREATE online_shop.db\n",
    "\n",
    "# Creation of tables\n",
    "conn = sqlite3.connect(\"./Resources/TASK1/online_shop.db\")\n",
    "cursor = conn.cursor()\n",
    "cursor.execute(\"\"\"CREATE TABLE IF NOT EXISTS products(\n",
    "    product_id INTEGER PRIMARY KEY AUTOINCREMENT,\n",
    "    name TEXT NOT NULL,\n",
    "    model TEXT UNIQUE NOT NULL,\n",
    "    category TEXT NOT NULL,\n",
    "    price INTEGER NOT NULL,\n",
    "    stock INTEGER NOT NULL\n",
    ")\"\"\")\n",
    "\n",
    "cursor.execute(\"\"\"CREATE TABLE IF NOT EXISTS customers(\n",
    "    customer_id INTEGER PRIMARY KEY AUTOINCREMENT,\n",
    "    name TEXT NOT NULL,\n",
    "    email TEXT UNIQUE NOT NULL,\n",
    "    phone INTEGER NOT NULL\n",
    ")\"\"\")\n",
    "\n",
    "cursor.execute(\"\"\"CREATE TABLE IF NOT EXISTS orders(\n",
    "    order_id INTEGER,\n",
    "    customer_id INTEGER NOT NULL,\n",
    "    product_id INTEGER NOT NULL,\n",
    "    quantity INTEGER NOT NULL,\n",
    "    order_date TEXT NOT NULL,\n",
    "    PRIMARY KEY (order_id,product_id),\n",
    "    FOREIGN KEY (product_id) REFERENCES products(product_id),\n",
    "    FOREIGN KEY (customer_id) REFERENCES customers(customer_id)\n",
    ")\"\"\")\n",
    "\n",
    "conn.commit()\n",
    "conn.close()\n",
    "\n",
    "# Insertion of Data\n",
    "with open(\"./Resources/TASK1/PRODUCTS.csv\") as file:\n",
    "    reader = csv.reader(file)\n",
    "    products = list(reader)\n",
    "\n",
    "products_cleaned = [(int(p[0]),p[1],p[2],p[3],int(p[4]),int(p[5])) for p in products[1::]]\n",
    "\n",
    "with open(\"./Resources/TASK1/CUSTOMERS.csv\") as file:\n",
    "    reader = csv.reader(file)\n",
    "    customers = list(reader)\n",
    "\n",
    "customers_cleaned = [(int(c[0]),c[1],c[2],c[3]) for c in customers[1::]]\n",
    "\n",
    "with open(\"./Resources/TASK1/ORDERS.csv\") as file:\n",
    "    reader = csv.reader(file)\n",
    "    orders = list(reader)\n",
    "\n",
    "orders_cleaned = [(int(o[0]),int(o[1]),int(o[2]),int(o[3]),o[4]) for o in orders[1::]]\n",
    "\n",
    "conn = sqlite3.connect(\"./Resources/TASK1/online_shop.db\")\n",
    "cursor = conn.cursor()\n",
    "cursor.executemany(\"INSERT INTO products (product_id,name,model,category,price,stock) VALUES (?,?,?,?,?,?)\",products_cleaned)\n",
    "cursor.executemany(\"INSERT INTO customers (customer_id,name,email,phone) VALUES (?,?,?,?)\",customers_cleaned)\n",
    "cursor.executemany(\"INSERT INTO orders (order_id,customer_id,product_id,quantity,order_date) VALUES (?,?,?,?,?)\",orders_cleaned)\n",
    "conn.commit()\n",
    "conn.close()"
   ]
  },
  {
   "cell_type": "markdown",
   "id": "557be318",
   "metadata": {},
   "source": [
    "## Task 1.2\n",
    "Add to your program code to retrieve and display all products in the Books category from the `products` table.\n",
    "\n",
    "Display the data in a readable format.\n",
    "\n",
    "Run your program.\n",
    "\n",
    "<div style=\"text-align:right;\">[2]</div>"
   ]
  },
  {
   "cell_type": "code",
   "execution_count": 14,
   "id": "28c96600",
   "metadata": {},
   "outputs": [
    {
     "name": "stdout",
     "output_type": "stream",
     "text": [
      "Product ID           Name                           Model                Category             Price      Stock     \n",
      "..............................................................................................................\n",
      "11                   Novel: The Great Gatsby        Classic Edition      Books                15         50        \n",
      "12                   Cookbook: The Joy of Cooking   2020 Edition         Books                30         30        \n"
     ]
    }
   ],
   "source": [
    "# Task 1.2\n",
    "import sqlite3\n",
    "from tabulate import tabulate\n",
    "\n",
    "conn = sqlite3.connect(\"./Resources/TASK1/online_shop.db\")\n",
    "cursor = conn.cursor()\n",
    "cursor.execute(\"SELECT * from products WHERE category = 'Books'\")\n",
    "data = cursor.fetchall()\n",
    "print(f\"{\"Product ID\":<20} {\"Name\":<30} {\"Model\":<20} {\"Category\":<20} {\"Price\":<10} {\"Stock\":<10}\")\n",
    "print(\".\"*110)\n",
    "for i in data:\n",
    "    print(f\"{i[0]:<20} {i[1]:<30} {i[2]:<20} {i[3]:<20} {i[4]:<10} {i[5]:<10}\")\n",
    "conn.close()"
   ]
  },
  {
   "cell_type": "markdown",
   "id": "72bfcd2c",
   "metadata": {},
   "source": [
    "## Task 1.3\n",
    "Add to your program code to find all orders placed by the customer named `Charles`. Assume there is only one customer with this name.\n",
    "\n",
    "Display the details of these orders from the `orders` table in a readable format.\n",
    "\n",
    "<div style=\"text-align:right;\">[4]</div>\n"
   ]
  },
  {
   "cell_type": "code",
   "execution_count": 16,
   "id": "2cc53eaf",
   "metadata": {},
   "outputs": [
    {
     "name": "stdout",
     "output_type": "stream",
     "text": [
      "Order ID             Product Name                   Category             Quantity   Price      Order Date\n",
      "........................................................................................................................\n",
      "4                    Blender                        Home Appliances      1          80         2024-04-22\n",
      "4                    Smartphone                     Electronics          1          800        2024-04-22\n",
      "4                    Smartwatch                     Electronics          1          400        2024-04-22\n",
      "6                    Smartphone                     Electronics          1          800        2024-06-18\n",
      "6                    Laptop                         Electronics          1          1200       2024-06-18\n",
      "14                   Blender                        Home Appliances      2          80         2024-08-15\n",
      "14                   Vacuum Cleaner                 Home Appliances      1          500        2024-08-15\n"
     ]
    }
   ],
   "source": [
    "# Task 1.3\n",
    "import sqlite3\n",
    "from tabulate import tabulate\n",
    "\n",
    "conn = sqlite3.connect('./Resources/TASK1/online_shop.db')\n",
    "cursor = conn.cursor()\n",
    "cursor.execute(\"SELECT customer_id FROM customers WHERE name = 'Charles'\")\n",
    "id = cursor.fetchone()[0]\n",
    "cursor.execute(\"SELECT o.order_id,p.name,p.category,o.quantity,p.price,o.order_date FROM orders AS o JOIN products AS p ON o.product_id = p.product_id WHERE customer_id = ? \",(id,))\n",
    "order_info = cursor.fetchall()\n",
    "print(f\"{\"Order ID\":<20} {\"Product Name\":<30} {\"Category\":<20} {\"Quantity\":<10} {\"Price\":<10} {\"Order Date\":<10}\")\n",
    "print(\".\"*120)\n",
    "for i in order_info:\n",
    "    print(f\"{i[0]:<20} {i[1]:<30} {i[2]:<20} {i[3]:<10} {i[4]:<10} {i[5]:<10}\")\n",
    "\n"
   ]
  },
  {
   "cell_type": "markdown",
   "id": "f58cd000",
   "metadata": {},
   "source": [
    "## Task 1.4\n",
    "Add to your program code to calculate the revenue generated from all orders.\n",
    "Display the revenue in a tabular format with headers for Order ID and Revenue.\n",
    "\n",
    "For each order, compute the revenue as the sum of the price of each product multiplied by the quantity ordered.\n",
    "\n",
    "**Alternatively:** <br>\n",
    "Import `tabulate` module and utilise it as shown above to represent the data in a readable manner.\n",
    "Run your program.\n",
    "<div style=\"text-align: right\">[5]</div>"
   ]
  },
  {
   "cell_type": "code",
   "execution_count": 22,
   "id": "b10d99a0",
   "metadata": {},
   "outputs": [
    {
     "name": "stdout",
     "output_type": "stream",
     "text": [
      "Order ID   Revenue             \n",
      "..................\n",
      "1          800                 \n",
      "2          2500                \n",
      "3          230                 \n",
      "4          1280                \n",
      "5          350                 \n",
      "6          2000                \n",
      "7          2180                \n",
      "8          400                 \n",
      "9          5650                \n",
      "10         1700                \n",
      "11         2260                \n",
      "12         4400                \n",
      "13         2400                \n",
      "14         660                 \n",
      "15         2250                \n"
     ]
    }
   ],
   "source": [
    "# Task 1.4\n",
    "import sqlite3\n",
    "from tabulate import tabulate\n",
    "\n",
    "conn = sqlite3.connect(\"./Resources/TASK1/online_shop.db\")\n",
    "cursor = conn.cursor()\n",
    "cursor.execute(\"\"\"\n",
    "SELECT o.order_id, SUM(p.price * o.quantity) AS total_amount \n",
    "FROM orders AS o \n",
    "JOIN products AS p ON o.product_id = p.product_id \n",
    "GROUP BY o.order_id\n",
    "\"\"\")\n",
    "order_info = cursor.fetchall()\n",
    "print(f\"{\"Order ID\":<10} {\"Revenue\":<20}\")\n",
    "print(\".\"*18)\n",
    "for i in order_info:\n",
    "    print(f\"{i[0]:<10} {i[1]:<20}\")\n",
    "\n",
    "\n"
   ]
  }
 ],
 "metadata": {
  "kernelspec": {
   "display_name": "venv-rev (3.13.2)",
   "language": "python",
   "name": "python3"
  },
  "language_info": {
   "codemirror_mode": {
    "name": "ipython",
    "version": 3
   },
   "file_extension": ".py",
   "mimetype": "text/x-python",
   "name": "python",
   "nbconvert_exporter": "python",
   "pygments_lexer": "ipython3",
   "version": "3.13.2"
  }
 },
 "nbformat": 4,
 "nbformat_minor": 5
}
