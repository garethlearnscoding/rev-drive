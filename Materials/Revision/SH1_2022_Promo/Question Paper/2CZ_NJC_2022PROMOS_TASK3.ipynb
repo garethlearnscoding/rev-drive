{
 "cells": [
  {
   "cell_type": "markdown",
   "id": "104a4fad",
   "metadata": {},
   "source": [
    "# Task 3\n",
    "\n",
    "The result of an international bowling tournament is stored in a file named `HEX_SCORE.TXT`. Due to a glitch in the scoring system, the values of the score are all in hexadecimal numbers. The file contains the player ID, the country code for the country the player is representing and the scores for the six games played in the tournament."
   ]
  },
  {
   "cell_type": "markdown",
   "id": "75230e48",
   "metadata": {},
   "source": [
    "## Task 3.1\n",
    "\n",
    "Write Python code to convert a string containing hexadecimal number to denary numbers. You are not allowed to use any built-in Python function.\n",
    "<div style='text-align: right; font-family: Courier New, monospace;'>[5]</div>"
   ]
  },
  {
   "cell_type": "code",
   "execution_count": null,
   "id": "a4652916",
   "metadata": {},
   "outputs": [],
   "source": [
    "# Task 3.1"
   ]
  },
  {
   "cell_type": "markdown",
   "id": "ceb78caf",
   "metadata": {},
   "source": [
    "## Task 3.2\n",
    "\n",
    "Each player's total score for the six games he/she played will be computed and thus determine his ranking in the tournament.\n",
    "\n",
    "Write Python code to:\n",
    "- read the data from the file `HEX_SCORE.TXT`\n",
    "- compute the total score for each player\n",
    "- use a bubble sort algorithm to sort the player's total score in descending order and then print the ranking of the players as follows in a similar format as given below:\n",
    "\n",
    "<table style=\"font-family: 'Courier New', monospace; border-collapse: collapse; width: 20%;\">\n",
    "  <tr>\n",
    "    <td style=\"border: 1px solid transparent; text-align: center;\">Rank</td>\n",
    "    <td style=\"border: 1px solid transparent; text-align: center;\">ID</td>\n",
    "    <td style=\"border: 1px solid transparent; text-align: center;\">Score</td>\n",
    "  </tr>\n",
    "  <tr>\n",
    "    <td style=\"border: 1px solid transparent; text-align: center;\">1</td>\n",
    "    <td style=\"border: 1px solid transparent; text-align: center;\">Player175</td>\n",
    "    <td style=\"border: 1px solid transparent; text-align: center;\">1734</td>\n",
    "  </tr>\n",
    "  <tr>\n",
    "    <td style=\"border: 1px solid transparent; text-align: center;\">2</td>\n",
    "    <td style=\"border: 1px solid transparent; text-align: center;\">Player173</td>\n",
    "    <td style=\"border: 1px solid transparent; text-align: center;\">1723</td>\n",
    "  </tr>\n",
    "  <tr>\n",
    "    <td style=\"border: 1px solid transparent; text-align: center;\">3</td>\n",
    "    <td style=\"border: 1px solid transparent; text-align: center;\">Player168</td>\n",
    "    <td style=\"border: 1px solid transparent; text-align: center;\">1678</td>\n",
    "  </tr>\n",
    "  <tr>\n",
    "    <td style=\"border: 1px solid transparent; text-align: center;\">4</td>\n",
    "    <td style=\"border: 1px solid transparent; text-align: center;\">Player166</td>\n",
    "    <td style=\"border: 1px solid transparent; text-align: center;\">1670</td>\n",
    "  </tr>\n",
    "  <tr>\n",
    "    <td style=\"border: 1px solid transparent; text-align: center;\">5</td>\n",
    "    <td style=\"border: 1px solid transparent; text-align: center;\">Player189</td>\n",
    "    <td style=\"border: 1px solid transparent; text-align: center;\">1519</td>\n",
    "  </tr>\n",
    "  <tr>\n",
    "    <td style=\"border: 1px solid transparent; text-align: center;\">:</td>\n",
    "    <td style=\"border: 1px solid transparent; text-align: center;\">:</td>\n",
    "    <td style=\"border: 1px solid transparent; text-align: center;\">:</td>\n",
    "  </tr>\n",
    "</table>\n",
    "\n",
    "<div style='text-align: right; font-family: Courier New, monospace;'>[6]</div>"
   ]
  },
  {
   "cell_type": "code",
   "execution_count": null,
   "id": "54769b1a",
   "metadata": {},
   "outputs": [],
   "source": [
    "# Task 3.2"
   ]
  },
  {
   "cell_type": "markdown",
   "id": "04151b6d",
   "metadata": {},
   "source": [
    "## Task 3.3\n",
    "\n",
    "Each country can be represented by one to five players. The total score for a country is computed by taking the average score of all the players who represented the country. The score should be rounded to an integer value. Print the results of each country as follows:\n",
    "\n",
    "<table style=\"font-family: 'Courier New', monospace; border-collapse: collapse; width: 50%;\">\n",
    "  <tr>\n",
    "    <td style=\"border: 1px solid transparent; padding: 8px; text-align: center;\">Country</td>\n",
    "    <td style=\"border: 1px solid transparent; padding: 8px; text-align: center;\">Num. Players</td>\n",
    "    <td style=\"border: 1px solid transparent; padding: 8px; text-align: center;\">Score</td>\n",
    "  </tr>\n",
    "  <tr>\n",
    "    <td style=\"border: 1px solid transparent; padding: 8px; text-align: center;\">SIN</td>\n",
    "    <td style=\"border: 1px solid transparent; padding: 8px; text-align: center;\">5</td>\n",
    "    <td style=\"border: 1px solid transparent; padding: 8px; text-align: center;\">1533</td>\n",
    "  </tr>\n",
    "  <tr>\n",
    "    <td style=\"border: 1px solid transparent; padding: 8px; text-align: center;\">MAS</td>\n",
    "    <td style=\"border: 1px solid transparent; padding: 8px; text-align: center;\">3</td>\n",
    "    <td style=\"border: 1px solid transparent; padding: 8px; text-align: center;\">1438</td>\n",
    "  </tr>\n",
    "  <tr>\n",
    "    <td style=\"border: 1px solid transparent; padding: 8px; text-align: center;\">IND</td>\n",
    "    <td style=\"border: 1px solid transparent; padding: 8px; text-align: center;\">1</td>\n",
    "    <td style=\"border: 1px solid transparent; padding: 8px; text-align: center;\">1723</td>\n",
    "  </tr>\n",
    "  <tr>\n",
    "    <td style=\"border: 1px solid transparent; padding: 8px; text-align: center;\">KOR</td>\n",
    "    <td style=\"border: 1px solid transparent; padding: 8px; text-align: center;\">1</td>\n",
    "    <td style=\"border: 1px solid transparent; padding: 8px; text-align: center;\">1519</td>\n",
    "  </tr>\n",
    "  <tr>\n",
    "    <td style=\"border: 1px solid transparent; padding: 8px; text-align: center;\">TPE</td>\n",
    "    <td style=\"border: 1px solid transparent; padding: 8px; text-align: center;\">2</td>\n",
    "    <td style=\"border: 1px solid transparent; padding: 8px; text-align: center;\">1409</td>\n",
    "  </tr>\n",
    "  <tr>\n",
    "    <td style=\"border: 1px solid transparent; padding: 8px; text-align: center;\">MAC</td>\n",
    "    <td style=\"border: 1px solid transparent; padding: 8px; text-align: center;\">1</td>\n",
    "    <td style=\"border: 1px solid transparent; padding: 8px; text-align: center;\">1400</td>\n",
    "  </tr>\n",
    "</table>\n",
    "\n",
    "<div style='text-align: right; font-family: Courier New, monospace;'>[5]</div>"
   ]
  },
  {
   "cell_type": "code",
   "execution_count": null,
   "id": "9fff9f07",
   "metadata": {},
   "outputs": [],
   "source": [
    "# Task 3.3"
   ]
  }
 ],
 "metadata": {
  "language_info": {
   "name": "python"
  }
 },
 "nbformat": 4,
 "nbformat_minor": 5
}
