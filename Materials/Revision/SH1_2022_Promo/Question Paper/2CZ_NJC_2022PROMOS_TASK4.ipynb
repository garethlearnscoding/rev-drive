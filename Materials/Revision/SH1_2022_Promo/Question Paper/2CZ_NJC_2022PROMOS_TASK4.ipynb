{
 "cells": [
  {
   "cell_type": "markdown",
   "id": "5f3dfc87",
   "metadata": {},
   "source": [
    "# Task 4\n",
    "\n",
    "A bowling competition management system needs to implement a relational database to store information for its players and results during the competition. A web application is also used to display the results and to provide data entry operations."
   ]
  },
  {
   "cell_type": "markdown",
   "id": "2fa9c48b",
   "metadata": {},
   "source": [
    "## Task 4.1\n",
    "\n",
    "Create a bowling competition database named `Task4.db` with three tables. Write SQL statements to create the three tables Player, Country and Game described by the following:\n",
    "\n",
    "- The Player table contains information of players in the competition. It has a PlayerID, Name, CountryCode, Gender and DateOfBirth.\n",
    "- The Country table contains the information of the country represented in the competition. It has a Country Code, CountryName, PlayerID of Team captain.\n",
    "- The Game table contains the scores obtained by the players during the competition. It has GameID, PlayerID, DatePlayed, StartTime, and Score.\n",
    "\n",
    "PlayerID is the primary key for the Player table. It should auto-increment. A player plays a maximum of six games in the competition.\n",
    "\n",
    "GameID is the primary key for the Game table. It should auto-increment.\n",
    "\n",
    "CountryCode is the primary key for the Country table. The team captain for the country must be a player.\n",
    "\n",
    "You should include appropriate constraints in your CREATE statements.\n",
    "\n",
    "Save your SQL code as `Task4_1 <your name>.sql`\n",
    "<div style='text-align: right; font-family: Courier New, monospace;'>[4]</div>"
   ]
  },
  {
   "cell_type": "code",
   "execution_count": null,
   "id": "9b0b4268",
   "metadata": {},
   "outputs": [],
   "source": [
    "# Task 4.1"
   ]
  },
  {
   "cell_type": "markdown",
   "id": "34e9b5c9",
   "metadata": {},
   "source": [
    "## Task 4.2\n",
    "\n",
    "Write Python code to import the data from `COUNTRY.TXT` into the Country table.\n",
    "<div style='text-align: right; font-family: Courier New, monospace;'>[4]</div>"
   ]
  },
  {
   "cell_type": "code",
   "execution_count": null,
   "id": "54f62bdd",
   "metadata": {},
   "outputs": [],
   "source": [
    "# Task 4.2"
   ]
  },
  {
   "cell_type": "markdown",
   "id": "4872254b",
   "metadata": {},
   "source": [
    "## Task 4.3\n",
    "\n",
    "Write a SQL query that shows:\n",
    "\n",
    "- The player name\n",
    "- The mean score for each player and the number of games played in the competition.\n",
    "<div style='text-align: right; font-family: Courier New, monospace;'>[4]</div>"
   ]
  },
  {
   "cell_type": "code",
   "execution_count": null,
   "id": "92ca20fe",
   "metadata": {},
   "outputs": [],
   "source": [
    "# Task 4.3"
   ]
  },
  {
   "cell_type": "markdown",
   "id": "95b22b72",
   "metadata": {},
   "source": [
    "## Task 4.4\n",
    "Create a web application using Python code and the necessary files that allows players information to be entered into the Players table and stored in the database.\n",
    "<div style='text-align: right; font-family: Courier New, monospace;'>[6]</div>"
   ]
  },
  {
   "cell_type": "code",
   "execution_count": null,
   "id": "58f9e1b0",
   "metadata": {},
   "outputs": [],
   "source": [
    "# Task 4.4"
   ]
  }
 ],
 "metadata": {
  "language_info": {
   "name": "python"
  }
 },
 "nbformat": 4,
 "nbformat_minor": 5
}
