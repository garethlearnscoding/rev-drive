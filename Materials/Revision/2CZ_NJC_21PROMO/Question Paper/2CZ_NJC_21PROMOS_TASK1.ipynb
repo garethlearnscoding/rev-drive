{
 "cells": [
  {
   "cell_type": "markdown",
   "id": "69d81bfd",
   "metadata": {},
   "source": [
    "# Task 1: Some Restaurant\n",
    "\n",
    "Name and save your Jupyter Notebook as <br>\n",
    "`Task1_<your name>_<NRIC number>.ipynb`.\n",
    "\n",
    "A restaurant offers membership for its customers. As a member, the customers are issued a unique ID numbers `IDNumber` which are integers. To help manage the identification of the customers, the manager of the restaurant opted for a low-cost solution of using a one-dimensional fixed-size array to store these ID numbers. The array is first initialized with `None` elements and the elements in this array is indexed from `0` to `(Max-1)`, where `Max` is size of the array.\n",
    "\n",
    "To determine the index `Index` in the array for the ID numbers `IDNumber`, the manager decided to use the following formula:\n",
    "\n",
    "\n",
    "$$\\text{Index} \\leftarrow \\text{IDNumber}\\mod \\quad \\text{Max}$$\n"
   ]
  },
  {
   "cell_type": "markdown",
   "id": "3b204922",
   "metadata": {},
   "source": [
    "# Task 1.1\n",
    "\n",
    "Each line in the text file, `IDNUMBER_NAME1.CSV`, contains the ID numbers of the customers together with the customers' name.\n",
    "\n",
    "Write program code to:\n",
    "\n",
    "- Read ID numbers from a text file and store them in the array. For the purpose of testing the program, `Max` is to be set to the value 20. Assume different IDs will have different indices.\n",
    "- Print out the contents of the array in the order in which the elements are stored in the array.\n",
    "\n",
    "Use `IDNUMBER_NAME1.CSV` to test your program code.\n",
    "<div style='text-align: right; font-family: Courier New, monospace;'>[7]</div>"
   ]
  },
  {
   "cell_type": "code",
   "execution_count": null,
   "id": "0ce36a04",
   "metadata": {},
   "outputs": [],
   "source": [
    "# Task 1.1"
   ]
  },
  {
   "cell_type": "markdown",
   "id": "231928b9",
   "metadata": {},
   "source": [
    "# Task 1.2\n",
    "\n",
    "In the midst of populating the array, the manager realized that using his formula, some ID numbers could be mapped to the same index, which would lead to customers not being able to uniquely identified.\n",
    "\n",
    "Amend your program code so that if more than one ID number is mapped to the same index, your program will  \n",
    "- search sequentially from the index that has already contained an ID number for an unused location in the array,  \n",
    "- get the index for this unused location the array, and  \n",
    "- store the duplicate ID Number at this empty location.\n",
    "\n",
    "Use `IDNUMBER_NAME2.csv` to test your program code.\n",
    "<div style='text-align: right; font-family: Courier New, monospace;'>[4]</div>"
   ]
  },
  {
   "cell_type": "code",
   "execution_count": null,
   "id": "9439168b",
   "metadata": {},
   "outputs": [],
   "source": [
    "# Task 1.2"
   ]
  },
  {
   "cell_type": "markdown",
   "id": "d479a93c",
   "metadata": {},
   "source": [
    "# Task 1.3\n",
    "\n",
    "Add code to your Task 1.2 program.\n",
    "\n",
    "The program is to:\n",
    "\n",
    "- Take as input an ID number  \n",
    "- Perform a linear search on the array and output the index of the array where the ID number was found.  \n",
    "\n",
    "Use `IDNUMBER_NAME2.CSV` to test your program code.\n",
    "\n",
    "Run the program three times. Use the following inputs:  \n",
    "\n",
    "80192615, 11559181 and 79626124.\n",
    "<div style='text-align: right; font-family: Courier New, monospace;'>[7]</div>  \n",
    "\n",
    "Save your Jupyter Notebook for Task 1."
   ]
  },
  {
   "cell_type": "code",
   "execution_count": null,
   "id": "076b4538",
   "metadata": {},
   "outputs": [],
   "source": [
    "# Task 1.3"
   ]
  }
 ],
 "metadata": {
  "language_info": {
   "name": "python"
  }
 },
 "nbformat": 4,
 "nbformat_minor": 5
}
